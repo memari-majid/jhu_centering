{
 "cells": [
  {
   "cell_type": "code",
   "execution_count": null,
   "id": "a035da5e",
   "metadata": {},
   "outputs": [],
   "source": [
    "import pandas as pd\n",
    "import sqlalchemy\n",
    "from matplotlib import pyplot as plt\n",
    "import datetime\n",
    "import copy"
   ]
  },
  {
   "cell_type": "code",
   "execution_count": null,
   "id": "f371b230",
   "metadata": {},
   "outputs": [],
   "source": [
    "db = sqlalchemy.engine.url.URL(drivername='mysql',\n",
    "                            host='127.0.0.1',\n",
    "                            database='sherman_1',\n",
    "                            query={'read_default_file': '~/.my.cnf', 'charset':'utf8'})\n",
    "engine = sqlalchemy.create_engine(db)"
   ]
  },
  {
   "cell_type": "code",
   "execution_count": null,
   "id": "caaa9de2",
   "metadata": {},
   "outputs": [],
   "source": [
    "df = pd.read_sql('''\n",
    "    SELECT * FROM sherman_1.plugin_ios_activity_recognition;\n",
    "''' ,engine)"
   ]
  },
  {
   "cell_type": "code",
   "execution_count": null,
   "id": "9ed1a2ac",
   "metadata": {},
   "outputs": [],
   "source": [
    "# merge sensor info for the same participant\n",
    "df_id = pd.read_csv('/home/memari/jhu_centering/tables/id.csv')\n",
    "# second device_id\n",
    "l = [17,18,61,20,22,37]\n",
    "l2 = set()\n",
    "for index in l:\n",
    "    l2.add(df_id.loc[index,'device_id2'])\n",
    "# create a dict of 'device_id2':'device_id1'\n",
    "my_dict = {}\n",
    "for index, row in df_id.iterrows():\n",
    "    if row['device_id2'] in l2:\n",
    "        my_dict[row['device_id2']] = row['device_id1']\n",
    "# replace\n",
    "for index, row in df.iterrows():\n",
    "    if row['device_id'] in my_dict:\n",
    "        df.loc[index,'device_id'] = my_dict[row['device_id']]"
   ]
  },
  {
   "cell_type": "code",
   "execution_count": null,
   "id": "6bedc6fd",
   "metadata": {},
   "outputs": [],
   "source": [
    "df['date'] = pd.to_datetime(df['timestamp'],unit='ms').dt.date"
   ]
  },
  {
   "cell_type": "code",
   "execution_count": null,
   "id": "4aa23962",
   "metadata": {},
   "outputs": [],
   "source": [
    "df_less = df[df['label'] != 'supplement']\n",
    "df_less = df[['device_id','date','stationary','walking','running','automotive','cycling','unknown']]"
   ]
  },
  {
   "cell_type": "code",
   "execution_count": null,
   "id": "de72cba3",
   "metadata": {},
   "outputs": [],
   "source": [
    "df_output = df_less.groupby(['device_id','date']).sum()\n",
    "df_output = df_output.reset_index()\n",
    "df_output"
   ]
  },
  {
   "cell_type": "code",
   "execution_count": null,
   "id": "025cc7fd",
   "metadata": {},
   "outputs": [],
   "source": [
    "df_output.to_csv(\"ios_activity_cleaned.csv\", index = False)"
   ]
  },
  {
   "cell_type": "markdown",
   "id": "4be33470",
   "metadata": {},
   "source": [
    "# filter 1-28"
   ]
  },
  {
   "cell_type": "code",
   "execution_count": null,
   "id": "fe2ebddf",
   "metadata": {},
   "outputs": [],
   "source": [
    "def find_first_day(device_id, df_cleaned):\n",
    "    df_target = df_cleaned[df_cleaned['device_id']==device_id]\n",
    "    return min(df_target['date'])"
   ]
  },
  {
   "cell_type": "code",
   "execution_count": null,
   "id": "e6cf5044",
   "metadata": {},
   "outputs": [],
   "source": [
    "def get_1_to_28(df_cleaned):\n",
    "    first_day = {device_id:find_first_day(device_id, df_cleaned) \n",
    "                 for device_id in set(df_cleaned['device_id'].tolist())\n",
    "                if find_first_day(device_id, df_cleaned)>=datetime.date(year=2022,month=11,day=11)}\n",
    "    df_cleaned = df_cleaned[df_cleaned['device_id'].isin(first_day)]\n",
    "    df_cleaned['day'] = df_cleaned.apply(lambda x: 1+(x['date']-first_day[x['device_id']]).days, axis = 1)\n",
    "    df_cleaned = df_cleaned[df_cleaned['day']<=28]\n",
    "    return df_cleaned"
   ]
  },
  {
   "cell_type": "code",
   "execution_count": null,
   "id": "2bca6bdb",
   "metadata": {},
   "outputs": [],
   "source": [
    "df_cleaned_1_28 = get_1_to_28(df_output)\n",
    "df_cleaned_1_28"
   ]
  },
  {
   "cell_type": "markdown",
   "id": "b139adad",
   "metadata": {},
   "source": [
    "# lineplot"
   ]
  },
  {
   "cell_type": "code",
   "execution_count": null,
   "id": "d23c5ff3",
   "metadata": {
    "scrolled": true
   },
   "outputs": [],
   "source": [
    "df_plot = copy.deepcopy(df_cleaned_1_28)\n",
    "df_plot = df_plot[['stationary','walking','running','automotive','cycling','unknown','day']]\n",
    "df_plot['total'] = df_plot.apply(lambda x: x['stationary']+x['walking']+x['running']+x['automotive']+x['cycling']+x['unknown'],\n",
    "                                axis = 1)\n",
    "for feature in ['stationary','walking','running','automotive','cycling','unknown']:\n",
    "    df_plot[feature] = df_plot.apply(lambda x: x[feature]/x['total'], axis = 1)\n",
    "\n",
    "df_plot = df_plot.drop('total', axis = 1)\n",
    "df_plot = df_plot.groupby('day').mean()\n",
    "df_plot = df_plot.reset_index()\n",
    "df_plot\n"
   ]
  },
  {
   "cell_type": "code",
   "execution_count": null,
   "id": "3750cf54",
   "metadata": {},
   "outputs": [],
   "source": [
    "plt.figure(figsize=(8, 6), dpi=300)\n",
    "for feature in ['stationary','walking','running','automotive','cycling','unknown']:\n",
    "    x = [i+1 for i in range(28)]\n",
    "    y = df_plot[feature].tolist()\n",
    "    plt.plot(x,y,label = feature)\n",
    "plt.xlim(1,28)\n",
    "plt.xticks([i+1 for i in range(28)],[i+1 for i in range(28)])\n",
    "plt.title(\"Ratio of Daily Physical Activities\")\n",
    "plt.xlabel(\"Days After Join\")\n",
    "plt.ylabel('Ratio')\n",
    "plt.legend()\n",
    "plt.show()"
   ]
  },
  {
   "cell_type": "markdown",
   "id": "0dafb5da",
   "metadata": {},
   "source": [
    "# group plot"
   ]
  },
  {
   "cell_type": "code",
   "execution_count": null,
   "id": "642cdf48",
   "metadata": {},
   "outputs": [],
   "source": [
    "df_id = pd.read_csv(\"/data/meditation/majid/tables/id.csv\")\n",
    "df_id = df_id.drop_duplicates('study_id')\n",
    "df_id = df_id.drop('id', axis = 1)\n",
    "df_id.columns = ['device_id','Study ID']\n",
    "\n",
    "df_group = pd.read_csv('/data/meditation/majid/surveys/0.csv', skiprows=[1,2])[['Study ID','Group']]\n",
    "df_group = df_id.merge(df_group, on = 'Study ID', how = 'left')\n",
    "df_group"
   ]
  },
  {
   "cell_type": "code",
   "execution_count": null,
   "id": "9b57d8d0",
   "metadata": {},
   "outputs": [],
   "source": [
    "df_plot = copy.deepcopy(df_cleaned_1_28)\n",
    "df_plot = df_plot.merge(df_group[['device_id','Group']], on = 'device_id', how = 'left')\n",
    "df_plot = df_plot[['stationary','walking','running','automotive','cycling','unknown','day','Group']]\n",
    "df_plot['total'] = df_plot.apply(lambda x: x['stationary']+x['walking']+x['running']+x['automotive']+x['cycling']+x['unknown'],\n",
    "                                axis = 1)\n",
    "for feature in ['stationary','walking','running','automotive','cycling','unknown']:\n",
    "    df_plot[feature] = df_plot.apply(lambda x: x[feature]/x['total'] if x['total']>0 else 0, axis = 1)\n",
    "\n",
    "df_plot = df_plot.drop('total', axis = 1)\n",
    "df_plot = df_plot.groupby(['Group','day']).mean()\n",
    "df_plot = df_plot.reset_index()\n",
    "df_plot\n"
   ]
  },
  {
   "cell_type": "code",
   "execution_count": null,
   "id": "30198327",
   "metadata": {
    "scrolled": false
   },
   "outputs": [],
   "source": [
    "for feature in ['stationary','walking','automotive']:\n",
    "    plt.figure(figsize=(8, 6), dpi=300)\n",
    "    for group in ['Active Control', 'Experimental Condition', 'Passive Control']:\n",
    "        df_target = df_plot[df_plot['Group']==group]\n",
    "        x = [i+1 for i in range(28)]\n",
    "        y = df_target[feature].tolist()\n",
    "        plt.plot(x,y,label = group)\n",
    "    plt.xlim(1,28)\n",
    "    plt.xticks([i+1 for i in range(28)],[i+1 for i in range(28)])\n",
    "    plt.title(\"Ratio of Daily Physical Activities - \"+feature)\n",
    "    plt.xlabel(\"Days After Join\")\n",
    "    plt.ylabel('Ratio')\n",
    "    plt.legend()\n",
    "    plt.show()"
   ]
  },
  {
   "cell_type": "code",
   "execution_count": null,
   "id": "c70d5f91",
   "metadata": {},
   "outputs": [],
   "source": []
  }
 ],
 "metadata": {
  "kernelspec": {
   "display_name": "dlatk_py38_majid",
   "language": "python",
   "name": "python3"
  },
  "language_info": {
   "codemirror_mode": {
    "name": "ipython",
    "version": 3
   },
   "file_extension": ".py",
   "mimetype": "text/x-python",
   "name": "python",
   "nbconvert_exporter": "python",
   "pygments_lexer": "ipython3",
   "version": "3.8.5"
  },
  "vscode": {
   "interpreter": {
    "hash": "a0e36f4956b5fdbcaf174c085fbd1a914c8c8de38ec77bc7e31222f0c24acba3"
   }
  }
 },
 "nbformat": 4,
 "nbformat_minor": 5
}
