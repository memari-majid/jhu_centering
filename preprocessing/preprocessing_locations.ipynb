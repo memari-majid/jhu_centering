{
 "cells": [
  {
   "cell_type": "code",
   "execution_count": 1,
   "id": "confused-student",
   "metadata": {},
   "outputs": [],
   "source": [
    "import pandas as pd\n",
    "import sqlalchemy\n",
    "from matplotlib import pyplot as plt\n",
    "import datetime\n",
    "import copy\n",
    "import numpy as np\n"
   ]
  },
  {
   "cell_type": "code",
   "execution_count": 2,
   "id": "bibliographic-exclusion",
   "metadata": {},
   "outputs": [],
   "source": [
    "db = sqlalchemy.engine.url.URL(drivername='mysql',\n",
    "                               host='127.0.0.1',\n",
    "                               database='sherman_1',\n",
    "                               query={'read_default_file': '~/.my.cnf', 'charset': 'utf8'})\n",
    "engine = sqlalchemy.create_engine(db)"
   ]
  },
  {
   "cell_type": "code",
   "execution_count": 3,
   "id": "plastic-religious",
   "metadata": {},
   "outputs": [],
   "source": [
    "df = pd.read_sql('''\n",
    "    SELECT * FROM sherman_1.locations;\n",
    "''' ,engine)"
   ]
  },
  {
   "cell_type": "markdown",
   "id": "undefined-music",
   "metadata": {},
   "source": [
    "### Feature Analysis\n",
    "* double_latitude -> the location’s latitude, in degrees\n",
    "* double_longitude -> the location’s longitude, in degrees\n",
    "    * will be merged to get location\n",
    "* double_bearing -> the location’s bearing, in degrees\n",
    "* double_speed -> the speed if available, in meters/second over ground\n",
    "    * will be removed, not helpful in this analysis\n",
    "* double_altitude -> if available, in meters above sea level\n",
    "    * will be removed, not available for all the records"
   ]
  },
  {
   "cell_type": "code",
   "execution_count": 4,
   "id": "incredible-literacy",
   "metadata": {},
   "outputs": [],
   "source": [
    "df['date'] = pd.to_datetime(df['timestamp'],unit='ms').dt.date"
   ]
  },
  {
   "cell_type": "code",
   "execution_count": 5,
   "id": "south-interim",
   "metadata": {},
   "outputs": [],
   "source": [
    "df['location'] = df['double_latitude'].astype(str) + \",\" + df['double_longitude'].astype(str)"
   ]
  },
  {
   "cell_type": "code",
   "execution_count": 6,
   "id": "endless-maximum",
   "metadata": {},
   "outputs": [],
   "source": [
    "df_less = df[['device_id', 'location', 'date']]"
   ]
  },
  {
   "cell_type": "code",
   "execution_count": 7,
   "id": "numeric-pantyhose",
   "metadata": {},
   "outputs": [
    {
     "data": {
      "text/html": [
       "<div>\n",
       "<style scoped>\n",
       "    .dataframe tbody tr th:only-of-type {\n",
       "        vertical-align: middle;\n",
       "    }\n",
       "\n",
       "    .dataframe tbody tr th {\n",
       "        vertical-align: top;\n",
       "    }\n",
       "\n",
       "    .dataframe thead th {\n",
       "        text-align: right;\n",
       "    }\n",
       "</style>\n",
       "<table border=\"1\" class=\"dataframe\">\n",
       "  <thead>\n",
       "    <tr style=\"text-align: right;\">\n",
       "      <th></th>\n",
       "      <th>device_id</th>\n",
       "      <th>location</th>\n",
       "      <th>date</th>\n",
       "    </tr>\n",
       "  </thead>\n",
       "  <tbody>\n",
       "    <tr>\n",
       "      <th>0</th>\n",
       "      <td>39f277f4-a04c-4668-8a36-8addb0a0265f</td>\n",
       "      <td>42.358840942383,-71.050247192383</td>\n",
       "      <td>2022-11-07</td>\n",
       "    </tr>\n",
       "    <tr>\n",
       "      <th>1</th>\n",
       "      <td>39f277f4-a04c-4668-8a36-8addb0a0265f</td>\n",
       "      <td>42.357767601369,-71.050605050462</td>\n",
       "      <td>2022-11-07</td>\n",
       "    </tr>\n",
       "    <tr>\n",
       "      <th>2</th>\n",
       "      <td>39f277f4-a04c-4668-8a36-8addb0a0265f</td>\n",
       "      <td>42.358840942383,-71.050247192383</td>\n",
       "      <td>2022-11-07</td>\n",
       "    </tr>\n",
       "    <tr>\n",
       "      <th>3</th>\n",
       "      <td>39f277f4-a04c-4668-8a36-8addb0a0265f</td>\n",
       "      <td>42.35779482303,-71.050588828588</td>\n",
       "      <td>2022-11-07</td>\n",
       "    </tr>\n",
       "    <tr>\n",
       "      <th>4</th>\n",
       "      <td>39f277f4-a04c-4668-8a36-8addb0a0265f</td>\n",
       "      <td>42.358840942383,-71.050247192383</td>\n",
       "      <td>2022-11-07</td>\n",
       "    </tr>\n",
       "    <tr>\n",
       "      <th>...</th>\n",
       "      <td>...</td>\n",
       "      <td>...</td>\n",
       "      <td>...</td>\n",
       "    </tr>\n",
       "    <tr>\n",
       "      <th>2527653</th>\n",
       "      <td>30ca0662-67d1-42d6-9610-d435e60a6a79</td>\n",
       "      <td>39.022381296269,-84.727613200974</td>\n",
       "      <td>2023-01-11</td>\n",
       "    </tr>\n",
       "    <tr>\n",
       "      <th>2527654</th>\n",
       "      <td>30ca0662-67d1-42d6-9610-d435e60a6a79</td>\n",
       "      <td>39.022381296269,-84.727613200974</td>\n",
       "      <td>2023-01-11</td>\n",
       "    </tr>\n",
       "    <tr>\n",
       "      <th>2527655</th>\n",
       "      <td>30ca0662-67d1-42d6-9610-d435e60a6a79</td>\n",
       "      <td>39.022381296269,-84.727613200974</td>\n",
       "      <td>2023-01-11</td>\n",
       "    </tr>\n",
       "    <tr>\n",
       "      <th>2527656</th>\n",
       "      <td>30ca0662-67d1-42d6-9610-d435e60a6a79</td>\n",
       "      <td>39.022381296269,-84.727613200974</td>\n",
       "      <td>2023-01-11</td>\n",
       "    </tr>\n",
       "    <tr>\n",
       "      <th>2527657</th>\n",
       "      <td>30ca0662-67d1-42d6-9610-d435e60a6a79</td>\n",
       "      <td>39.022381296269,-84.727613200974</td>\n",
       "      <td>2023-01-11</td>\n",
       "    </tr>\n",
       "  </tbody>\n",
       "</table>\n",
       "<p>2527658 rows × 3 columns</p>\n",
       "</div>"
      ],
      "text/plain": [
       "                                    device_id  \\\n",
       "0        39f277f4-a04c-4668-8a36-8addb0a0265f   \n",
       "1        39f277f4-a04c-4668-8a36-8addb0a0265f   \n",
       "2        39f277f4-a04c-4668-8a36-8addb0a0265f   \n",
       "3        39f277f4-a04c-4668-8a36-8addb0a0265f   \n",
       "4        39f277f4-a04c-4668-8a36-8addb0a0265f   \n",
       "...                                       ...   \n",
       "2527653  30ca0662-67d1-42d6-9610-d435e60a6a79   \n",
       "2527654  30ca0662-67d1-42d6-9610-d435e60a6a79   \n",
       "2527655  30ca0662-67d1-42d6-9610-d435e60a6a79   \n",
       "2527656  30ca0662-67d1-42d6-9610-d435e60a6a79   \n",
       "2527657  30ca0662-67d1-42d6-9610-d435e60a6a79   \n",
       "\n",
       "                                 location        date  \n",
       "0        42.358840942383,-71.050247192383  2022-11-07  \n",
       "1        42.357767601369,-71.050605050462  2022-11-07  \n",
       "2        42.358840942383,-71.050247192383  2022-11-07  \n",
       "3         42.35779482303,-71.050588828588  2022-11-07  \n",
       "4        42.358840942383,-71.050247192383  2022-11-07  \n",
       "...                                   ...         ...  \n",
       "2527653  39.022381296269,-84.727613200974  2023-01-11  \n",
       "2527654  39.022381296269,-84.727613200974  2023-01-11  \n",
       "2527655  39.022381296269,-84.727613200974  2023-01-11  \n",
       "2527656  39.022381296269,-84.727613200974  2023-01-11  \n",
       "2527657  39.022381296269,-84.727613200974  2023-01-11  \n",
       "\n",
       "[2527658 rows x 3 columns]"
      ]
     },
     "execution_count": 7,
     "metadata": {},
     "output_type": "execute_result"
    }
   ],
   "source": [
    "df_less"
   ]
  },
  {
   "cell_type": "markdown",
   "id": "collaborative-strike",
   "metadata": {},
   "source": [
    "### Group by\n",
    "Group by 'device_id' and 'date' aggregate number of unique and tola of palces visited"
   ]
  },
  {
   "cell_type": "code",
   "execution_count": null,
   "id": "laden-stress",
   "metadata": {},
   "outputs": [],
   "source": [
    "df_output = df_less.groupby(['device_id','date']).agg({'location':['nunique','count']})"
   ]
  },
  {
   "cell_type": "code",
   "execution_count": null,
   "id": "introductory-association",
   "metadata": {},
   "outputs": [],
   "source": [
    "df_output = df_less.groupby(['date']).agg({'device_id'':['nunique','count']})"
   ]
  },
  {
   "cell_type": "code",
   "execution_count": null,
   "id": "falling-ukraine",
   "metadata": {},
   "outputs": [],
   "source": [
    "df_output"
   ]
  },
  {
   "cell_type": "code",
   "execution_count": null,
   "id": "fuzzy-george",
   "metadata": {},
   "outputs": [],
   "source": [
    "df_output = df_output.reset_index()"
   ]
  },
  {
   "cell_type": "code",
   "execution_count": null,
   "id": "controlled-restriction",
   "metadata": {},
   "outputs": [],
   "source": [
    "df_output.columns = ['device_id', 'date', 'nunique','count']"
   ]
  },
  {
   "cell_type": "code",
   "execution_count": null,
   "id": "frequent-contact",
   "metadata": {},
   "outputs": [],
   "source": [
    "df_output.to_csv(\"locations.csv\", index = False)"
   ]
  },
  {
   "cell_type": "markdown",
   "id": "convinced-creativity",
   "metadata": {},
   "source": [
    "### Filter 28 days"
   ]
  },
  {
   "cell_type": "code",
   "execution_count": null,
   "id": "adult-accused",
   "metadata": {},
   "outputs": [],
   "source": [
    "def find_first_day(device_id, df_cleaned):\n",
    "    df_target = df_cleaned[df_cleaned['device_id']==device_id]\n",
    "    return min(df_target['date'])"
   ]
  },
  {
   "cell_type": "code",
   "execution_count": null,
   "id": "developed-bubble",
   "metadata": {},
   "outputs": [],
   "source": [
    "def get_1_to_28(df_cleaned):\n",
    "    first_day = {device_id:find_first_day(device_id, df_cleaned) \n",
    "                 for device_id in set(df_cleaned['device_id'].tolist())\n",
    "                if find_first_day(device_id, df_cleaned)>=datetime.date(year=2022,month=11,day=11)}\n",
    "    df_cleaned = df_cleaned[df_cleaned['device_id'].isin(first_day)]\n",
    "    df_cleaned['day'] = df_cleaned.apply(lambda x: 1+(x['date']-first_day[x['device_id']]).days, axis = 1)\n",
    "    df_cleaned = df_cleaned[df_cleaned['day']<=28]\n",
    "    return df_cleaned"
   ]
  },
  {
   "cell_type": "code",
   "execution_count": null,
   "id": "annual-justice",
   "metadata": {},
   "outputs": [],
   "source": [
    "first_day = {device_id:find_first_day(device_id, df_output) for device_id in set(df_output['device_id'].tolist())"
   ]
  },
  {
   "cell_type": "code",
   "execution_count": null,
   "id": "connected-minimum",
   "metadata": {},
   "outputs": [],
   "source": [
    "df_cleaned_1_28 = get_1_to_28(df_output)\n",
    "df_cleaned_1_28"
   ]
  },
  {
   "cell_type": "code",
   "execution_count": null,
   "id": "daily-period",
   "metadata": {},
   "outputs": [],
   "source": [
    "df_plot = copy.deepcopy(df_cleaned_1_28)\n",
    "df_plot = df_plot[['nunique','count','day']]\n",
    "df_plot = df_plot.groupby('day').mean()\n",
    "df_plot = df_plot.reset_index()"
   ]
  },
  {
   "cell_type": "code",
   "execution_count": null,
   "id": "english-currency",
   "metadata": {},
   "outputs": [],
   "source": [
    "fig = plt.figure(figsize=(8, 6), dpi=300)\n",
    "ax1 = fig.add_subplot(111)\n",
    "ax2 = ax1.twinx()\n",
    "x = [i+1 for i in range(28)]\n",
    "y1 = df_plot['nunique'].tolist()\n",
    "y2 = df_plot['count'].tolist()\n",
    "ln1 = ax1.plot(x,y1,label = 'nunique', color = 'red')\n",
    "ln2 = ax1.plot(x,y2,label = 'count', color = 'blue')\n",
    "plt.xlim(1,28)\n",
    "plt.xticks([i+1 for i in range(28)],[i+1 for i in range(28)])\n",
    "plt.title(\"Locations\")\n",
    "plt.xlabel(\"Days After Join\")\n",
    "ax1.set_ylabel('nunique', color = 'red')\n",
    "ax2.set_ylabel('count', color = 'blue')\n",
    "lns = ln1+ln2\n",
    "labs = [l.get_label() for l in lns]\n",
    "ax1.legend(lns, labs, loc=0)\n",
    "plt.show()"
   ]
  },
  {
   "cell_type": "code",
   "execution_count": null,
   "id": "searching-franklin",
   "metadata": {},
   "outputs": [],
   "source": [
    "df_id = pd.read_csv(\"/data/meditation/majid/tables/id.csv\")\n",
    "df_id = df_id.drop_duplicates('study_id')\n",
    "df_id = df_id.drop('id', axis = 1)\n",
    "df_id.columns = ['device_id','Study ID']\n",
    "\n",
    "df_group = pd.read_csv('/data/meditation/majid/surveys/0.csv', skiprows=[1,2])[['Study ID','Group']]\n",
    "df_group = df_id.merge(df_group, on = 'Study ID', how = 'left')\n",
    "df_group"
   ]
  },
  {
   "cell_type": "code",
   "execution_count": null,
   "id": "capital-elder",
   "metadata": {},
   "outputs": [],
   "source": [
    "df_plot = copy.deepcopy(df_cleaned_1_28)\n",
    "df_plot = df_plot.merge(df_group[['device_id','Group']], on = 'device_id', how = 'left')\n",
    "df_plot = df_plot[['nunique','day','Group']]\n",
    "df_plot = df_plot.groupby(['Group','day']).mean()\n",
    "df_plot = df_plot.reset_index()\n",
    "df_plot"
   ]
  },
  {
   "cell_type": "code",
   "execution_count": null,
   "id": "international-string",
   "metadata": {},
   "outputs": [],
   "source": [
    "plt.figure(figsize=(8, 6), dpi=300)\n",
    "for group in ['Active Control', 'Experimental Condition', 'Passive Control']:\n",
    "    df_target = df_plot[df_plot['Group']==group]\n",
    "    x = [i+1 for i in range(28)]\n",
    "    y = df_target[\"nunique\"].tolist()\n",
    "    plt.plot(x,y,label = group)\n",
    "plt.xlim(1,28)\n",
    "plt.xticks([i+1 for i in range(28)],[i+1 for i in range(28)])\n",
    "plt.title(\"Locations\")\n",
    "plt.xlabel(\"Days After Join\")\n",
    "plt.ylabel('Unique Places Visited')\n",
    "plt.legend()\n",
    "plt.show()"
   ]
  }
 ],
 "metadata": {
  "kernelspec": {
   "display_name": "dlatk_py38_majid",
   "language": "python",
   "name": "python3"
  },
  "language_info": {
   "codemirror_mode": {
    "name": "ipython",
    "version": 3
   },
   "file_extension": ".py",
   "mimetype": "text/x-python",
   "name": "python",
   "nbconvert_exporter": "python",
   "pygments_lexer": "ipython3",
   "version": "3.8.5"
  },
  "vscode": {
   "interpreter": {
    "hash": "a0e36f4956b5fdbcaf174c085fbd1a914c8c8de38ec77bc7e31222f0c24acba3"
   }
  }
 },
 "nbformat": 4,
 "nbformat_minor": 5
}
