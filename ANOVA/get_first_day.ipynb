{
 "cells": [
  {
   "cell_type": "code",
   "execution_count": 1,
   "metadata": {},
   "outputs": [],
   "source": [
    "import pandas as pd\n",
    "import sqlalchemy\n",
    "from matplotlib import pyplot as plt\n",
    "import datetime\n"
   ]
  },
  {
   "cell_type": "code",
   "execution_count": 2,
   "metadata": {},
   "outputs": [],
   "source": [
    "db = sqlalchemy.engine.url.URL(drivername='mysql',\n",
    "                               host='127.0.0.1',\n",
    "                               database='sherman_1',\n",
    "                               query={'read_default_file': '~/.my.cnf', 'charset': 'utf8'})\n",
    "engine = sqlalchemy.create_engine(db)"
   ]
  },
  {
   "cell_type": "code",
   "execution_count": 3,
   "metadata": {},
   "outputs": [],
   "source": [
    "df = pd.read_sql('''\n",
    "    SELECT * FROM sherman_1.aware_device;\n",
    "''' ,engine)"
   ]
  },
  {
   "cell_type": "code",
   "execution_count": 4,
   "metadata": {},
   "outputs": [],
   "source": [
    "df['date'] = pd.to_datetime(df['timestamp'],unit='ms').dt.date"
   ]
  },
  {
   "cell_type": "code",
   "execution_count": 5,
   "metadata": {},
   "outputs": [],
   "source": [
    "df = df[['device_id','date']]"
   ]
  },
  {
   "cell_type": "code",
   "execution_count": 6,
   "metadata": {},
   "outputs": [],
   "source": [
    "def find_first_day(device_id, df_cleaned):\n",
    "    df_target = df_cleaned[df_cleaned['device_id']==device_id]\n",
    "    return min(df_target['date'])"
   ]
  },
  {
   "cell_type": "code",
   "execution_count": 7,
   "metadata": {},
   "outputs": [],
   "source": [
    "first_day = {device_id: find_first_day(device_id, df)\n",
    "             for device_id in set(df['device_id'].tolist())\n",
    "             if find_first_day(device_id, df) >= datetime.date(year=2022, month=11, day=11)}\n"
   ]
  },
  {
   "cell_type": "code",
   "execution_count": 8,
   "metadata": {},
   "outputs": [
    {
     "data": {
      "text/html": [
       "<div>\n",
       "<style scoped>\n",
       "    .dataframe tbody tr th:only-of-type {\n",
       "        vertical-align: middle;\n",
       "    }\n",
       "\n",
       "    .dataframe tbody tr th {\n",
       "        vertical-align: top;\n",
       "    }\n",
       "\n",
       "    .dataframe thead th {\n",
       "        text-align: right;\n",
       "    }\n",
       "</style>\n",
       "<table border=\"1\" class=\"dataframe\">\n",
       "  <thead>\n",
       "    <tr style=\"text-align: right;\">\n",
       "      <th></th>\n",
       "      <th>device_id</th>\n",
       "      <th>date</th>\n",
       "    </tr>\n",
       "  </thead>\n",
       "  <tbody>\n",
       "    <tr>\n",
       "      <th>0</th>\n",
       "      <td>780c9b18-72d3-4714-858d-3c91b3719155</td>\n",
       "      <td>2022-12-16</td>\n",
       "    </tr>\n",
       "    <tr>\n",
       "      <th>1</th>\n",
       "      <td>dff9a20d-f314-4901-8adc-fa91b6e2c5b8</td>\n",
       "      <td>2022-12-05</td>\n",
       "    </tr>\n",
       "    <tr>\n",
       "      <th>2</th>\n",
       "      <td>33fcced4-82c8-42a3-ae2d-cdfdc365f7e2</td>\n",
       "      <td>2022-12-02</td>\n",
       "    </tr>\n",
       "    <tr>\n",
       "      <th>3</th>\n",
       "      <td>bf244d2f-5edd-4000-80f4-084c7951ece9</td>\n",
       "      <td>2022-12-06</td>\n",
       "    </tr>\n",
       "    <tr>\n",
       "      <th>4</th>\n",
       "      <td>160d7b33-a74f-438d-af2a-445ecd8c4ff1</td>\n",
       "      <td>2022-12-14</td>\n",
       "    </tr>\n",
       "    <tr>\n",
       "      <th>...</th>\n",
       "      <td>...</td>\n",
       "      <td>...</td>\n",
       "    </tr>\n",
       "    <tr>\n",
       "      <th>73</th>\n",
       "      <td>631788ed-6d66-4c1c-8b18-c2d320fd3043</td>\n",
       "      <td>2022-12-07</td>\n",
       "    </tr>\n",
       "    <tr>\n",
       "      <th>74</th>\n",
       "      <td>41646f47-46d6-4ea7-90fd-0b6afaea3d64</td>\n",
       "      <td>2022-11-23</td>\n",
       "    </tr>\n",
       "    <tr>\n",
       "      <th>75</th>\n",
       "      <td>d565193f-df85-4012-a747-0e415cf60f37</td>\n",
       "      <td>2022-12-14</td>\n",
       "    </tr>\n",
       "    <tr>\n",
       "      <th>76</th>\n",
       "      <td>55b49a7e-8ffe-4f91-af32-8101398db6e9</td>\n",
       "      <td>2022-12-05</td>\n",
       "    </tr>\n",
       "    <tr>\n",
       "      <th>77</th>\n",
       "      <td>93065d22-8138-49d0-bde4-aa05eafa94cc</td>\n",
       "      <td>2022-12-13</td>\n",
       "    </tr>\n",
       "  </tbody>\n",
       "</table>\n",
       "<p>78 rows × 2 columns</p>\n",
       "</div>"
      ],
      "text/plain": [
       "                               device_id        date\n",
       "0   780c9b18-72d3-4714-858d-3c91b3719155  2022-12-16\n",
       "1   dff9a20d-f314-4901-8adc-fa91b6e2c5b8  2022-12-05\n",
       "2   33fcced4-82c8-42a3-ae2d-cdfdc365f7e2  2022-12-02\n",
       "3   bf244d2f-5edd-4000-80f4-084c7951ece9  2022-12-06\n",
       "4   160d7b33-a74f-438d-af2a-445ecd8c4ff1  2022-12-14\n",
       "..                                   ...         ...\n",
       "73  631788ed-6d66-4c1c-8b18-c2d320fd3043  2022-12-07\n",
       "74  41646f47-46d6-4ea7-90fd-0b6afaea3d64  2022-11-23\n",
       "75  d565193f-df85-4012-a747-0e415cf60f37  2022-12-14\n",
       "76  55b49a7e-8ffe-4f91-af32-8101398db6e9  2022-12-05\n",
       "77  93065d22-8138-49d0-bde4-aa05eafa94cc  2022-12-13\n",
       "\n",
       "[78 rows x 2 columns]"
      ]
     },
     "execution_count": 8,
     "metadata": {},
     "output_type": "execute_result"
    }
   ],
   "source": [
    "df = pd.DataFrame(first_day.items(),columns=['device_id', 'date'])\n",
    "df"
   ]
  },
  {
   "cell_type": "code",
   "execution_count": 9,
   "metadata": {},
   "outputs": [
    {
     "name": "stdout",
     "output_type": "stream",
     "text": [
      "3.391304347826087\n"
     ]
    }
   ],
   "source": [
    "grouped = df.groupby('date')['device_id'].nunique()\n",
    "m = grouped.mean()\n",
    "print(m)"
   ]
  },
  {
   "cell_type": "code",
   "execution_count": 10,
   "metadata": {},
   "outputs": [
    {
     "data": {
      "text/plain": [
       "0     2022-12-16\n",
       "1     2022-12-05\n",
       "2     2022-12-02\n",
       "3     2022-12-06\n",
       "4     2022-12-14\n",
       "         ...    \n",
       "73    2022-12-07\n",
       "74    2022-11-23\n",
       "75    2022-12-14\n",
       "76    2022-12-05\n",
       "77    2022-12-13\n",
       "Name: date, Length: 78, dtype: object"
      ]
     },
     "execution_count": 10,
     "metadata": {},
     "output_type": "execute_result"
    }
   ],
   "source": [
    "df['date']"
   ]
  },
  {
   "cell_type": "code",
   "execution_count": 12,
   "metadata": {},
   "outputs": [
    {
     "data": {
      "image/png": "[encoded data removed]",
      "text/plain": [
       "<Figure size 1000x600 with 1 Axes>"
      ]
     },
     "metadata": {},
     "output_type": "display_data"
    }
   ],
   "source": [
    "mylist = df['date']\n",
    "fig = plt.figure(figsize=(10, 6))\n",
    "plt.hist(mylist,bins=len(mylist),edgecolor='black')\n",
    "plt.xlabel('date')\n",
    "plt.ylabel('number of start_date')\n",
    "plt.title('Aware Start Dates')\n",
    "plt.xticks(mylist,rotation=75,fontsize=10, fontweight='light', fontfamily='monospace')\n",
    "plt.axhline(y=m, color='red', linestyle='--')\n",
    "plt.show()"
   ]
  }
 ],
 "metadata": {
  "kernelspec": {
   "display_name": "Python 3",
   "language": "python",
   "name": "python3"
  },
  "language_info": {
   "codemirror_mode": {
    "name": "ipython",
    "version": 3
   },
   "file_extension": ".py",
   "mimetype": "text/x-python",
   "name": "python",
   "nbconvert_exporter": "python",
   "pygments_lexer": "ipython3",
   "version": "3.8.5"
  },
  "vscode": {
   "interpreter": {
    "hash": "a0e36f4956b5fdbcaf174c085fbd1a914c8c8de38ec77bc7e31222f0c24acba3"
   }
  }
 },
 "nbformat": 4,
 "nbformat_minor": 2
}
