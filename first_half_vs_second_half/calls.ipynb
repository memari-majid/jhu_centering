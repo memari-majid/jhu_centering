{
 "cells": [
  {
   "cell_type": "code",
   "execution_count": 1,
   "id": "a035da5e",
   "metadata": {},
   "outputs": [],
   "source": [
    "import pandas as pd\n",
    "import sqlalchemy\n",
    "from matplotlib import pyplot as plt\n",
    "import datetime\n",
    "import numpy as np\n",
    "import seaborn as sns\n",
    "import pandas as pd\n",
    "\n",
    "pd.options.mode.chained_assignment = None\n"
   ]
  },
  {
   "cell_type": "code",
   "execution_count": 2,
   "id": "f371b230",
   "metadata": {},
   "outputs": [],
   "source": [
    "db = sqlalchemy.engine.url.URL(drivername='mysql',\n",
    "                            host='127.0.0.1',\n",
    "                            database='sherman_1',\n",
    "                            query={'read_default_file': '~/.my.cnf', 'charset':'utf8'})\n",
    "engine = sqlalchemy.create_engine(db)"
   ]
  },
  {
   "cell_type": "code",
   "execution_count": 3,
   "id": "caaa9de2",
   "metadata": {},
   "outputs": [],
   "source": [
    "df = pd.read_sql('''\n",
    "    SELECT * FROM sherman_1.calls;\n",
    "''' ,engine)"
   ]
  },
  {
   "cell_type": "code",
   "execution_count": 4,
   "id": "dea43802",
   "metadata": {},
   "outputs": [
    {
     "name": "stdout",
     "output_type": "stream",
     "text": [
      "86\n",
      "82\n"
     ]
    }
   ],
   "source": [
    "# merge sensor info for the same participant\n",
    "df_id = pd.read_csv('/home/memari/jhu_centering/tables/id.csv')\n",
    "# second device_id\n",
    "l = [17,18,61,20,22,37]\n",
    "l2 = set()\n",
    "for index in l:\n",
    "    l2.add(df_id.loc[index,'device_id2'])\n",
    "# create a dict of 'device_id2':'device_id1'\n",
    "my_dict = {}\n",
    "for index, row in df_id.iterrows():\n",
    "    if row['device_id2'] in l2:\n",
    "        my_dict[row['device_id2']] = row['device_id1']\n",
    "# replace\n",
    "for index, row in df.iterrows():\n",
    "    if row['device_id'] in my_dict:\n",
    "        df.loc[index,'device_id'] = my_dict[row['device_id']]"
   ]
  },
  {
   "cell_type": "code",
   "execution_count": 5,
   "id": "2e258054",
   "metadata": {},
   "outputs": [],
   "source": [
    "def get_incoming_outgoing_missed(df):\n",
    "    uniq_device_id = list(set(df['device_id'].tolist()))\n",
    "    df_output = pd.DataFrame()\n",
    "    df_incoming = pd.DataFrame()\n",
    "    df_outgoing = pd.DataFrame()\n",
    "    df_missed = pd.DataFrame()\n",
    "    for device_id in uniq_device_id:\n",
    "        df_target = df[df['device_id']==device_id]\n",
    "        df_target = df_target.sort_values(by = 'timestamp', ascending = False)\n",
    "        \n",
    "        df_output_temp = df_target[['device_id','timestamp']]\n",
    "        \n",
    "        past_type = df_target['call_type'].tolist()\n",
    "        past_type = past_type[1:]+[None]\n",
    "        future_type = df_target['call_type'].tolist()\n",
    "        future_type = [None]+future_type[:-1]\n",
    "        duration = df_target['call_duration'].tolist()\n",
    "        duration = [None]+duration[:-1]\n",
    "        \n",
    "        df_target['past_type'] = past_type\n",
    "        df_target['future_type'] = future_type\n",
    "        df_target['duration'] = duration\n",
    "        \n",
    "        \n",
    "\n",
    "        #incoming\n",
    "        df_incoming_temp = df_target[(df_target['past_type']==1)&\n",
    "                                   (df_target['call_type']==2)&\n",
    "                                   (df_target['future_type']==4)]\n",
    "        \n",
    "        df_incoming_temp['incoming_time'] = df_incoming_temp['duration']\n",
    "        df_incoming_temp = df_incoming_temp[['device_id','timestamp','incoming_time']]\n",
    "        \n",
    "        \n",
    "        #outgoing\n",
    "        df_outgoing_temp = df_target[(df_target['past_type']==3)&\n",
    "                                   (df_target['call_type']==2)&\n",
    "                                   (df_target['future_type']==4)]\n",
    "        \n",
    "        df_outgoing_temp['outgoing_time'] = df_outgoing_temp['duration']\n",
    "        df_outgoing_temp = df_outgoing_temp[['device_id','timestamp','outgoing_time']]\n",
    "        \n",
    "        \n",
    "        #missing\n",
    "        df_missing_temp = df_target[(df_target['call_type']==4)&\n",
    "                                   (df_target['past_type']!=2)]\n",
    "        \n",
    "        df_missing_temp['missing_time'] = df_missing_temp['duration']\n",
    "        df_missing_temp = df_missing_temp[['device_id','timestamp','missing_time']]\n",
    "        \n",
    "        df_output_temp = df_output_temp.merge(df_incoming_temp, on = ['device_id','timestamp'], how = 'left')\n",
    "        df_output_temp = df_output_temp.fillna(0)\n",
    "        \n",
    "        df_output_temp = df_output_temp.merge(df_outgoing_temp, on = ['device_id','timestamp'], how = 'left')\n",
    "        df_output_temp = df_output_temp.fillna(0)\n",
    "        \n",
    "        df_output_temp = df_output_temp.merge(df_missing_temp, on = ['device_id','timestamp'], how = 'left')\n",
    "        df_output_temp = df_output_temp.fillna(0)\n",
    "        \n",
    "        if df_output_temp.shape[0]>0:\n",
    "            df_output = pd.concat([df_output, df_output_temp], ignore_index=True)\n",
    "    \n",
    "    return df_output"
   ]
  },
  {
   "cell_type": "code",
   "execution_count": 6,
   "id": "c6cf7ba7",
   "metadata": {
    "scrolled": false
   },
   "outputs": [],
   "source": [
    "df_less = get_incoming_outgoing_missed(df)\n",
    "df_less['date'] = pd.to_datetime(df_less['timestamp'],unit='ms').dt.date"
   ]
  },
  {
   "cell_type": "code",
   "execution_count": 7,
   "id": "de72cba3",
   "metadata": {},
   "outputs": [],
   "source": [
    "df_less = df_less[['device_id','date','incoming_time','outgoing_time','missing_time']]\n",
    "df_less['incoming_freq'] = df_less['incoming_time'].apply(lambda x: int(x>0))\n",
    "df_less['outgoing_freq'] = df_less['outgoing_time'].apply(lambda x: int(x>0))\n",
    "df_less['missing_freq'] = df_less['missing_time'].apply(lambda x: int(x>0))"
   ]
  },
  {
   "cell_type": "code",
   "execution_count": 8,
   "id": "feeec577",
   "metadata": {},
   "outputs": [
    {
     "data": {
      "text/html": [
       "<div>\n",
       "<style scoped>\n",
       "    .dataframe tbody tr th:only-of-type {\n",
       "        vertical-align: middle;\n",
       "    }\n",
       "\n",
       "    .dataframe tbody tr th {\n",
       "        vertical-align: top;\n",
       "    }\n",
       "\n",
       "    .dataframe thead th {\n",
       "        text-align: right;\n",
       "    }\n",
       "</style>\n",
       "<table border=\"1\" class=\"dataframe\">\n",
       "  <thead>\n",
       "    <tr style=\"text-align: right;\">\n",
       "      <th></th>\n",
       "      <th>device_id</th>\n",
       "      <th>date</th>\n",
       "      <th>incoming_time</th>\n",
       "      <th>incoming_freq</th>\n",
       "      <th>outgoing_time</th>\n",
       "      <th>outgoing_freq</th>\n",
       "      <th>missing_time</th>\n",
       "      <th>missing_freq</th>\n",
       "    </tr>\n",
       "  </thead>\n",
       "  <tbody>\n",
       "    <tr>\n",
       "      <th>0</th>\n",
       "      <td>00e17b8a-4b0f-4230-bd26-3df2853e8916</td>\n",
       "      <td>2022-12-19</td>\n",
       "      <td>625.0</td>\n",
       "      <td>3</td>\n",
       "      <td>24.0</td>\n",
       "      <td>2</td>\n",
       "      <td>0.0</td>\n",
       "      <td>0</td>\n",
       "    </tr>\n",
       "    <tr>\n",
       "      <th>1</th>\n",
       "      <td>00e17b8a-4b0f-4230-bd26-3df2853e8916</td>\n",
       "      <td>2022-12-20</td>\n",
       "      <td>1876.0</td>\n",
       "      <td>7</td>\n",
       "      <td>1830.0</td>\n",
       "      <td>14</td>\n",
       "      <td>1176.0</td>\n",
       "      <td>2</td>\n",
       "    </tr>\n",
       "    <tr>\n",
       "      <th>2</th>\n",
       "      <td>00e17b8a-4b0f-4230-bd26-3df2853e8916</td>\n",
       "      <td>2022-12-21</td>\n",
       "      <td>5157.0</td>\n",
       "      <td>10</td>\n",
       "      <td>803.0</td>\n",
       "      <td>3</td>\n",
       "      <td>0.0</td>\n",
       "      <td>0</td>\n",
       "    </tr>\n",
       "    <tr>\n",
       "      <th>3</th>\n",
       "      <td>00e17b8a-4b0f-4230-bd26-3df2853e8916</td>\n",
       "      <td>2022-12-22</td>\n",
       "      <td>1403.0</td>\n",
       "      <td>4</td>\n",
       "      <td>335.0</td>\n",
       "      <td>16</td>\n",
       "      <td>954.0</td>\n",
       "      <td>2</td>\n",
       "    </tr>\n",
       "    <tr>\n",
       "      <th>4</th>\n",
       "      <td>00e17b8a-4b0f-4230-bd26-3df2853e8916</td>\n",
       "      <td>2022-12-23</td>\n",
       "      <td>4783.0</td>\n",
       "      <td>6</td>\n",
       "      <td>996.0</td>\n",
       "      <td>4</td>\n",
       "      <td>0.0</td>\n",
       "      <td>0</td>\n",
       "    </tr>\n",
       "    <tr>\n",
       "      <th>...</th>\n",
       "      <td>...</td>\n",
       "      <td>...</td>\n",
       "      <td>...</td>\n",
       "      <td>...</td>\n",
       "      <td>...</td>\n",
       "      <td>...</td>\n",
       "      <td>...</td>\n",
       "      <td>...</td>\n",
       "    </tr>\n",
       "    <tr>\n",
       "      <th>2544</th>\n",
       "      <td>ffe96eaa-8909-4958-a34e-0ed1fe68f9bd</td>\n",
       "      <td>2022-12-27</td>\n",
       "      <td>29.0</td>\n",
       "      <td>1</td>\n",
       "      <td>1285.0</td>\n",
       "      <td>5</td>\n",
       "      <td>0.0</td>\n",
       "      <td>0</td>\n",
       "    </tr>\n",
       "    <tr>\n",
       "      <th>2545</th>\n",
       "      <td>ffe96eaa-8909-4958-a34e-0ed1fe68f9bd</td>\n",
       "      <td>2022-12-28</td>\n",
       "      <td>0.0</td>\n",
       "      <td>0</td>\n",
       "      <td>1795.0</td>\n",
       "      <td>3</td>\n",
       "      <td>0.0</td>\n",
       "      <td>0</td>\n",
       "    </tr>\n",
       "    <tr>\n",
       "      <th>2546</th>\n",
       "      <td>ffe96eaa-8909-4958-a34e-0ed1fe68f9bd</td>\n",
       "      <td>2022-12-29</td>\n",
       "      <td>0.0</td>\n",
       "      <td>0</td>\n",
       "      <td>911.0</td>\n",
       "      <td>6</td>\n",
       "      <td>0.0</td>\n",
       "      <td>0</td>\n",
       "    </tr>\n",
       "    <tr>\n",
       "      <th>2547</th>\n",
       "      <td>ffe96eaa-8909-4958-a34e-0ed1fe68f9bd</td>\n",
       "      <td>2022-12-30</td>\n",
       "      <td>13.0</td>\n",
       "      <td>1</td>\n",
       "      <td>330.0</td>\n",
       "      <td>3</td>\n",
       "      <td>0.0</td>\n",
       "      <td>0</td>\n",
       "    </tr>\n",
       "    <tr>\n",
       "      <th>2548</th>\n",
       "      <td>ffe96eaa-8909-4958-a34e-0ed1fe68f9bd</td>\n",
       "      <td>2022-12-31</td>\n",
       "      <td>484.0</td>\n",
       "      <td>2</td>\n",
       "      <td>330.0</td>\n",
       "      <td>2</td>\n",
       "      <td>58.0</td>\n",
       "      <td>2</td>\n",
       "    </tr>\n",
       "  </tbody>\n",
       "</table>\n",
       "<p>2549 rows × 8 columns</p>\n",
       "</div>"
      ],
      "text/plain": [
       "                                 device_id        date  incoming_time  \\\n",
       "0     00e17b8a-4b0f-4230-bd26-3df2853e8916  2022-12-19          625.0   \n",
       "1     00e17b8a-4b0f-4230-bd26-3df2853e8916  2022-12-20         1876.0   \n",
       "2     00e17b8a-4b0f-4230-bd26-3df2853e8916  2022-12-21         5157.0   \n",
       "3     00e17b8a-4b0f-4230-bd26-3df2853e8916  2022-12-22         1403.0   \n",
       "4     00e17b8a-4b0f-4230-bd26-3df2853e8916  2022-12-23         4783.0   \n",
       "...                                    ...         ...            ...   \n",
       "2544  ffe96eaa-8909-4958-a34e-0ed1fe68f9bd  2022-12-27           29.0   \n",
       "2545  ffe96eaa-8909-4958-a34e-0ed1fe68f9bd  2022-12-28            0.0   \n",
       "2546  ffe96eaa-8909-4958-a34e-0ed1fe68f9bd  2022-12-29            0.0   \n",
       "2547  ffe96eaa-8909-4958-a34e-0ed1fe68f9bd  2022-12-30           13.0   \n",
       "2548  ffe96eaa-8909-4958-a34e-0ed1fe68f9bd  2022-12-31          484.0   \n",
       "\n",
       "      incoming_freq  outgoing_time  outgoing_freq  missing_time  missing_freq  \n",
       "0                 3           24.0              2           0.0             0  \n",
       "1                 7         1830.0             14        1176.0             2  \n",
       "2                10          803.0              3           0.0             0  \n",
       "3                 4          335.0             16         954.0             2  \n",
       "4                 6          996.0              4           0.0             0  \n",
       "...             ...            ...            ...           ...           ...  \n",
       "2544              1         1285.0              5           0.0             0  \n",
       "2545              0         1795.0              3           0.0             0  \n",
       "2546              0          911.0              6           0.0             0  \n",
       "2547              1          330.0              3           0.0             0  \n",
       "2548              2          330.0              2          58.0             2  \n",
       "\n",
       "[2549 rows x 8 columns]"
      ]
     },
     "execution_count": 8,
     "metadata": {},
     "output_type": "execute_result"
    }
   ],
   "source": [
    "df_output = df_less.groupby(['device_id','date']).agg(incoming_time = ('incoming_time', np.sum),\n",
    "                                                      incoming_freq = ('incoming_freq',np.sum),\n",
    "                                                      outgoing_time = ('outgoing_time', np.sum),\n",
    "                                                      outgoing_freq = ('outgoing_freq',np.sum),\n",
    "                                                      missing_time = ('missing_time', np.sum),\n",
    "                                                      missing_freq = ('missing_freq',np.sum),\n",
    "                                                     )\n",
    "df_output = df_output.reset_index()\n",
    "df_output['incoming_freq'] = df_output['incoming_freq'].apply(lambda x: int(x))\n",
    "df_output['outgoing_freq'] = df_output['outgoing_freq'].apply(lambda x: int(x))\n",
    "df_output['missing_freq'] = df_output['missing_freq'].apply(lambda x: int(x))\n",
    "df_output"
   ]
  },
  {
   "cell_type": "code",
   "execution_count": 9,
   "id": "025cc7fd",
   "metadata": {},
   "outputs": [],
   "source": [
    "df_output.to_csv(\"/home/memari/jhu_centering/tables/calls_cleaned.csv\", index = False)"
   ]
  },
  {
   "attachments": {},
   "cell_type": "markdown",
   "id": "425a5873",
   "metadata": {},
   "source": [
    "The experiments have been started on 11/11/2022.\n",
    "We need to collect sensor information for each paritipant duraing days [1-14] and [15-28].\n",
    "Each participant would start the experminext in a diffrenet day."
   ]
  },
  {
   "cell_type": "code",
   "execution_count": 10,
   "id": "fe2ebddf",
   "metadata": {},
   "outputs": [],
   "source": [
    "# find the first day\n",
    "def find_first_day(device_id, df_cleaned):\n",
    "    df_target = df_cleaned[df_cleaned['device_id']==device_id]\n",
    "    return min(df_target['date'])"
   ]
  },
  {
   "cell_type": "code",
   "execution_count": 11,
   "id": "e6cf5044",
   "metadata": {},
   "outputs": [],
   "source": [
    "def get_1_14(df):\n",
    "    first_day = {device_id:find_first_day(device_id, df) \n",
    "                 for device_id in set(df['device_id'].tolist())\n",
    "                if find_first_day(device_id, df)>=datetime.date(year=2022,month=11,day=11)}\n",
    "    df = df[df['device_id'].isin(first_day)]\n",
    "    df['day'] = df.apply(lambda x: 1+(x['date']-first_day[x['device_id']]).days, axis = 1)\n",
    "    df_1_14 = df[df['day']<=14]\n",
    "    return df_1_14"
   ]
  },
  {
   "cell_type": "code",
   "execution_count": null,
   "id": "9b8133d1",
   "metadata": {},
   "outputs": [],
   "source": [
    "# find the first day\n",
    "def find_day_15(device_id, df_cleaned):\n",
    "    df_target = df_cleaned[df_cleaned['device_id']==device_id]\n",
    "    return min(df_target['date'])"
   ]
  },
  {
   "cell_type": "code",
   "execution_count": null,
   "id": "b56b4684",
   "metadata": {},
   "outputs": [],
   "source": [
    "def get_15_28(df):\n",
    "    first_day = {device_id:find_first_day(device_id, df) \n",
    "                 for device_id in set(df['device_id'].tolist())\n",
    "                if find_first_day(device_id, df)>=datetime.date(year=2022,month=11,day=11)}\n",
    "    df = df[df['device_id'].isin(first_day)]\n",
    "    df['day'] = df.apply(lambda x: 1+(x['date']-first_day[x['device_id']]).days, axis = 1)\n",
    "    df_1_14 = df[df['day']<=14]\n",
    "\n",
    "    return df_1_14,df_15_28"
   ]
  },
  {
   "cell_type": "code",
   "execution_count": 12,
   "id": "2bca6bdb",
   "metadata": {},
   "outputs": [],
   "source": [
    "df_1_14, df_15_28= halve(df_output)"
   ]
  },
  {
   "cell_type": "code",
   "execution_count": 13,
   "id": "423551d0",
   "metadata": {},
   "outputs": [],
   "source": [
    "grouped_1_14 = df_1_14.groupby('date')\n",
    "grouped_15_28 = df_1_14.groupby('date')"
   ]
  },
  {
   "cell_type": "code",
   "execution_count": 14,
   "id": "bcf4896b",
   "metadata": {},
   "outputs": [
    {
     "data": {
      "image/png": "[encoded data removed]",
      "text/plain": [
       "<Figure size 640x480 with 1 Axes>"
      ]
     },
     "metadata": {},
     "output_type": "display_data"
    }
   ],
   "source": [
    "grouped_1_14['incoming_time'].mean().plot(kind='bar')\n",
    "plt.title('Call Incoming Call day [1-14]')\n",
    "plt.show()"
   ]
  },
  {
   "cell_type": "code",
   "execution_count": 15,
   "id": "11a4d949",
   "metadata": {},
   "outputs": [
    {
     "data": {
      "image/png": "[encoded data removed]",
      "text/plain": [
       "<Figure size 640x480 with 1 Axes>"
      ]
     },
     "metadata": {},
     "output_type": "display_data"
    }
   ],
   "source": [
    "grouped_15_28['incoming_time'].mean().plot(kind='bar')\n",
    "plt.title('Call Incoming Call day [15-28]')\n",
    "plt.show()"
   ]
  }
 ],
 "metadata": {
  "kernelspec": {
   "display_name": "dlatk_py38_majid",
   "language": "python",
   "name": "python3"
  },
  "language_info": {
   "codemirror_mode": {
    "name": "ipython",
    "version": 3
   },
   "file_extension": ".py",
   "mimetype": "text/x-python",
   "name": "python",
   "nbconvert_exporter": "python",
   "pygments_lexer": "ipython3",
   "version": "3.8.5"
  },
  "vscode": {
   "interpreter": {
    "hash": "a0e36f4956b5fdbcaf174c085fbd1a914c8c8de38ec77bc7e31222f0c24acba3"
   }
  }
 },
 "nbformat": 4,
 "nbformat_minor": 5
}
