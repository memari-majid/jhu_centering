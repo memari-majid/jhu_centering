{
 "cells": [
  {
   "cell_type": "code",
   "execution_count": 2,
   "metadata": {},
   "outputs": [],
   "source": [
    "import pandas as pd\n",
    "import sqlalchemy\n",
    "from matplotlib import pyplot as plt\n",
    "import datetime\n",
    "import copy\n",
    "import numpy as np\n",
    "from scipy.stats import stats\n",
    "import seaborn as sns\n",
    "import matplotlib.pyplot as plt\n",
    "pd.options.mode.chained_assignment = None\n"
   ]
  },
  {
   "cell_type": "code",
   "execution_count": 3,
   "metadata": {},
   "outputs": [
    {
     "data": {
      "text/plain": [
       "Index(['device_id', 'date', 'elapsed_device_on', 'elapsed_device_off'], dtype='object')"
      ]
     },
     "execution_count": 3,
     "metadata": {},
     "output_type": "execute_result"
    }
   ],
   "source": [
    "df = pd.read_csv(\"/home/memari/jhu_centering/tables/device_usage_cleaned.csv\", parse_dates=['date'])\n",
    "col = df.columns"
   ]
  },
  {
   "cell_type": "code",
   "execution_count": 9,
   "metadata": {},
   "outputs": [],
   "source": [
    "# find the first day\n",
    "def find_first_day(device_id, df):\n",
    "    df_target = df[df['device_id']==device_id]\n",
    "    return min(df_target['date'])\n",
    "def halve(df):\n",
    "    first_day = {device_id:find_first_day(device_id, df) \n",
    "                 for device_id in set(df['device_id'].tolist())\n",
    "                if find_first_day(device_id, df)>=datetime.date(year=2022,month=11,day=11)}\n",
    "    df = df[df['device_id'].isin(first_day)]\n",
    "    df['day'] = df.apply(lambda x: 1+(x['date']-first_day[x['device_id']]).days, axis = 1)\n",
    "    df_1_14 = df[df['day']<=14]\n",
    "    df_15_28 = df[(df['day']>14) & (df['day']<=28)]\n",
    "    return df_1_14,df_15_28\n",
    "df_1_14,df_15_28 = halve(df)"
   ]
  },
  {
   "cell_type": "code",
   "execution_count": 26,
   "metadata": {},
   "outputs": [
    {
     "name": "stdout",
     "output_type": "stream",
     "text": [
      "['day', 'device_id', 'date', 'elapsed_device_on', 'elapsed_device_off']\n"
     ]
    }
   ],
   "source": [
    "col = df.columns.tolist()\n",
    "col.insert(0,'day')\n",
    "print(col)"
   ]
  },
  {
   "cell_type": "code",
   "execution_count": 30,
   "metadata": {},
   "outputs": [
    {
     "data": {
      "text/html": [
       "<div>\n",
       "<style scoped>\n",
       "    .dataframe tbody tr th:only-of-type {\n",
       "        vertical-align: middle;\n",
       "    }\n",
       "\n",
       "    .dataframe tbody tr th {\n",
       "        vertical-align: top;\n",
       "    }\n",
       "\n",
       "    .dataframe thead th {\n",
       "        text-align: right;\n",
       "    }\n",
       "</style>\n",
       "<table border=\"1\" class=\"dataframe\">\n",
       "  <thead>\n",
       "    <tr style=\"text-align: right;\">\n",
       "      <th></th>\n",
       "      <th>day</th>\n",
       "      <th>device_id</th>\n",
       "      <th>date</th>\n",
       "      <th>elapsed_device_on</th>\n",
       "      <th>elapsed_device_off</th>\n",
       "    </tr>\n",
       "  </thead>\n",
       "  <tbody>\n",
       "    <tr>\n",
       "      <th>0</th>\n",
       "      <td>1</td>\n",
       "      <td>00e17b8a-4b0f-4230-bd26-3df2853e8916</td>\n",
       "      <td>2022-12-19</td>\n",
       "      <td>2059.867325</td>\n",
       "      <td>9058.977986</td>\n",
       "    </tr>\n",
       "    <tr>\n",
       "      <th>1</th>\n",
       "      <td>2</td>\n",
       "      <td>00e17b8a-4b0f-4230-bd26-3df2853e8916</td>\n",
       "      <td>2022-12-20</td>\n",
       "      <td>5478.438835</td>\n",
       "      <td>79157.384791</td>\n",
       "    </tr>\n",
       "    <tr>\n",
       "      <th>2</th>\n",
       "      <td>3</td>\n",
       "      <td>00e17b8a-4b0f-4230-bd26-3df2853e8916</td>\n",
       "      <td>2022-12-21</td>\n",
       "      <td>7987.285942</td>\n",
       "      <td>80162.947736</td>\n",
       "    </tr>\n",
       "    <tr>\n",
       "      <th>3</th>\n",
       "      <td>4</td>\n",
       "      <td>00e17b8a-4b0f-4230-bd26-3df2853e8916</td>\n",
       "      <td>2022-12-22</td>\n",
       "      <td>9316.175104</td>\n",
       "      <td>77363.962594</td>\n",
       "    </tr>\n",
       "    <tr>\n",
       "      <th>4</th>\n",
       "      <td>5</td>\n",
       "      <td>00e17b8a-4b0f-4230-bd26-3df2853e8916</td>\n",
       "      <td>2022-12-23</td>\n",
       "      <td>13422.878653</td>\n",
       "      <td>73212.289174</td>\n",
       "    </tr>\n",
       "    <tr>\n",
       "      <th>...</th>\n",
       "      <td>...</td>\n",
       "      <td>...</td>\n",
       "      <td>...</td>\n",
       "      <td>...</td>\n",
       "      <td>...</td>\n",
       "    </tr>\n",
       "    <tr>\n",
       "      <th>2543</th>\n",
       "      <td>10</td>\n",
       "      <td>ffe96eaa-8909-4958-a34e-0ed1fe68f9bd</td>\n",
       "      <td>2022-12-16</td>\n",
       "      <td>23323.592973</td>\n",
       "      <td>21201.946316</td>\n",
       "    </tr>\n",
       "    <tr>\n",
       "      <th>2544</th>\n",
       "      <td>11</td>\n",
       "      <td>ffe96eaa-8909-4958-a34e-0ed1fe68f9bd</td>\n",
       "      <td>2022-12-17</td>\n",
       "      <td>14083.503607</td>\n",
       "      <td>22568.176560</td>\n",
       "    </tr>\n",
       "    <tr>\n",
       "      <th>2545</th>\n",
       "      <td>12</td>\n",
       "      <td>ffe96eaa-8909-4958-a34e-0ed1fe68f9bd</td>\n",
       "      <td>2022-12-18</td>\n",
       "      <td>13710.176682</td>\n",
       "      <td>62743.144872</td>\n",
       "    </tr>\n",
       "    <tr>\n",
       "      <th>2546</th>\n",
       "      <td>13</td>\n",
       "      <td>ffe96eaa-8909-4958-a34e-0ed1fe68f9bd</td>\n",
       "      <td>2022-12-19</td>\n",
       "      <td>22903.450387</td>\n",
       "      <td>27891.105334</td>\n",
       "    </tr>\n",
       "    <tr>\n",
       "      <th>2547</th>\n",
       "      <td>14</td>\n",
       "      <td>ffe96eaa-8909-4958-a34e-0ed1fe68f9bd</td>\n",
       "      <td>2022-12-20</td>\n",
       "      <td>15842.949177</td>\n",
       "      <td>28790.376280</td>\n",
       "    </tr>\n",
       "  </tbody>\n",
       "</table>\n",
       "<p>988 rows × 5 columns</p>\n",
       "</div>"
      ],
      "text/plain": [
       "      day                             device_id       date  elapsed_device_on  \\\n",
       "0       1  00e17b8a-4b0f-4230-bd26-3df2853e8916 2022-12-19        2059.867325   \n",
       "1       2  00e17b8a-4b0f-4230-bd26-3df2853e8916 2022-12-20        5478.438835   \n",
       "2       3  00e17b8a-4b0f-4230-bd26-3df2853e8916 2022-12-21        7987.285942   \n",
       "3       4  00e17b8a-4b0f-4230-bd26-3df2853e8916 2022-12-22        9316.175104   \n",
       "4       5  00e17b8a-4b0f-4230-bd26-3df2853e8916 2022-12-23       13422.878653   \n",
       "...   ...                                   ...        ...                ...   \n",
       "2543   10  ffe96eaa-8909-4958-a34e-0ed1fe68f9bd 2022-12-16       23323.592973   \n",
       "2544   11  ffe96eaa-8909-4958-a34e-0ed1fe68f9bd 2022-12-17       14083.503607   \n",
       "2545   12  ffe96eaa-8909-4958-a34e-0ed1fe68f9bd 2022-12-18       13710.176682   \n",
       "2546   13  ffe96eaa-8909-4958-a34e-0ed1fe68f9bd 2022-12-19       22903.450387   \n",
       "2547   14  ffe96eaa-8909-4958-a34e-0ed1fe68f9bd 2022-12-20       15842.949177   \n",
       "\n",
       "      elapsed_device_off  \n",
       "0            9058.977986  \n",
       "1           79157.384791  \n",
       "2           80162.947736  \n",
       "3           77363.962594  \n",
       "4           73212.289174  \n",
       "...                  ...  \n",
       "2543        21201.946316  \n",
       "2544        22568.176560  \n",
       "2545        62743.144872  \n",
       "2546        27891.105334  \n",
       "2547        28790.376280  \n",
       "\n",
       "[988 rows x 5 columns]"
      ]
     },
     "execution_count": 30,
     "metadata": {},
     "output_type": "execute_result"
    }
   ],
   "source": [
    "df_1_14 = df_1_14[col]\n",
    "df_1_14"
   ]
  },
  {
   "cell_type": "code",
   "execution_count": 11,
   "metadata": {},
   "outputs": [
    {
     "data": {
      "text/html": [
       "<div>\n",
       "<style scoped>\n",
       "    .dataframe tbody tr th:only-of-type {\n",
       "        vertical-align: middle;\n",
       "    }\n",
       "\n",
       "    .dataframe tbody tr th {\n",
       "        vertical-align: top;\n",
       "    }\n",
       "\n",
       "    .dataframe thead th {\n",
       "        text-align: right;\n",
       "    }\n",
       "</style>\n",
       "<table border=\"1\" class=\"dataframe\">\n",
       "  <thead>\n",
       "    <tr style=\"text-align: right;\">\n",
       "      <th></th>\n",
       "      <th>day</th>\n",
       "      <th>device_id</th>\n",
       "      <th>date</th>\n",
       "      <th>elapsed_device_on</th>\n",
       "      <th>elapsed_device_off</th>\n",
       "    </tr>\n",
       "  </thead>\n",
       "  <tbody>\n",
       "    <tr>\n",
       "      <th>14</th>\n",
       "      <td>15</td>\n",
       "      <td>00e17b8a-4b0f-4230-bd26-3df2853e8916</td>\n",
       "      <td>2023-01-02</td>\n",
       "      <td>3642.335653</td>\n",
       "      <td>58987.637348</td>\n",
       "    </tr>\n",
       "    <tr>\n",
       "      <th>15</th>\n",
       "      <td>16</td>\n",
       "      <td>00e17b8a-4b0f-4230-bd26-3df2853e8916</td>\n",
       "      <td>2023-01-03</td>\n",
       "      <td>1805.953096</td>\n",
       "      <td>46574.276628</td>\n",
       "    </tr>\n",
       "    <tr>\n",
       "      <th>16</th>\n",
       "      <td>17</td>\n",
       "      <td>00e17b8a-4b0f-4230-bd26-3df2853e8916</td>\n",
       "      <td>2023-01-04</td>\n",
       "      <td>8737.993938</td>\n",
       "      <td>76426.060033</td>\n",
       "    </tr>\n",
       "    <tr>\n",
       "      <th>17</th>\n",
       "      <td>18</td>\n",
       "      <td>00e17b8a-4b0f-4230-bd26-3df2853e8916</td>\n",
       "      <td>2023-01-05</td>\n",
       "      <td>8219.730464</td>\n",
       "      <td>78364.705463</td>\n",
       "    </tr>\n",
       "    <tr>\n",
       "      <th>18</th>\n",
       "      <td>19</td>\n",
       "      <td>00e17b8a-4b0f-4230-bd26-3df2853e8916</td>\n",
       "      <td>2023-01-06</td>\n",
       "      <td>557.400159</td>\n",
       "      <td>5693.734940</td>\n",
       "    </tr>\n",
       "    <tr>\n",
       "      <th>...</th>\n",
       "      <td>...</td>\n",
       "      <td>...</td>\n",
       "      <td>...</td>\n",
       "      <td>...</td>\n",
       "      <td>...</td>\n",
       "    </tr>\n",
       "    <tr>\n",
       "      <th>2556</th>\n",
       "      <td>23</td>\n",
       "      <td>ffe96eaa-8909-4958-a34e-0ed1fe68f9bd</td>\n",
       "      <td>2022-12-29</td>\n",
       "      <td>10918.917861</td>\n",
       "      <td>74248.107077</td>\n",
       "    </tr>\n",
       "    <tr>\n",
       "      <th>2557</th>\n",
       "      <td>24</td>\n",
       "      <td>ffe96eaa-8909-4958-a34e-0ed1fe68f9bd</td>\n",
       "      <td>2022-12-30</td>\n",
       "      <td>11998.857603</td>\n",
       "      <td>63072.433905</td>\n",
       "    </tr>\n",
       "    <tr>\n",
       "      <th>2558</th>\n",
       "      <td>25</td>\n",
       "      <td>ffe96eaa-8909-4958-a34e-0ed1fe68f9bd</td>\n",
       "      <td>2022-12-31</td>\n",
       "      <td>31610.016154</td>\n",
       "      <td>48664.681181</td>\n",
       "    </tr>\n",
       "    <tr>\n",
       "      <th>2559</th>\n",
       "      <td>26</td>\n",
       "      <td>ffe96eaa-8909-4958-a34e-0ed1fe68f9bd</td>\n",
       "      <td>2023-01-01</td>\n",
       "      <td>8131.785642</td>\n",
       "      <td>73785.401312</td>\n",
       "    </tr>\n",
       "    <tr>\n",
       "      <th>2560</th>\n",
       "      <td>27</td>\n",
       "      <td>ffe96eaa-8909-4958-a34e-0ed1fe68f9bd</td>\n",
       "      <td>2023-01-02</td>\n",
       "      <td>169.530486</td>\n",
       "      <td>27568.856927</td>\n",
       "    </tr>\n",
       "  </tbody>\n",
       "</table>\n",
       "<p>875 rows × 5 columns</p>\n",
       "</div>"
      ],
      "text/plain": [
       "      day                             device_id       date  elapsed_device_on  \\\n",
       "14     15  00e17b8a-4b0f-4230-bd26-3df2853e8916 2023-01-02        3642.335653   \n",
       "15     16  00e17b8a-4b0f-4230-bd26-3df2853e8916 2023-01-03        1805.953096   \n",
       "16     17  00e17b8a-4b0f-4230-bd26-3df2853e8916 2023-01-04        8737.993938   \n",
       "17     18  00e17b8a-4b0f-4230-bd26-3df2853e8916 2023-01-05        8219.730464   \n",
       "18     19  00e17b8a-4b0f-4230-bd26-3df2853e8916 2023-01-06         557.400159   \n",
       "...   ...                                   ...        ...                ...   \n",
       "2556   23  ffe96eaa-8909-4958-a34e-0ed1fe68f9bd 2022-12-29       10918.917861   \n",
       "2557   24  ffe96eaa-8909-4958-a34e-0ed1fe68f9bd 2022-12-30       11998.857603   \n",
       "2558   25  ffe96eaa-8909-4958-a34e-0ed1fe68f9bd 2022-12-31       31610.016154   \n",
       "2559   26  ffe96eaa-8909-4958-a34e-0ed1fe68f9bd 2023-01-01        8131.785642   \n",
       "2560   27  ffe96eaa-8909-4958-a34e-0ed1fe68f9bd 2023-01-02         169.530486   \n",
       "\n",
       "      elapsed_device_off  \n",
       "14          58987.637348  \n",
       "15          46574.276628  \n",
       "16          76426.060033  \n",
       "17          78364.705463  \n",
       "18           5693.734940  \n",
       "...                  ...  \n",
       "2556        74248.107077  \n",
       "2557        63072.433905  \n",
       "2558        48664.681181  \n",
       "2559        73785.401312  \n",
       "2560        27568.856927  \n",
       "\n",
       "[875 rows x 5 columns]"
      ]
     },
     "execution_count": 11,
     "metadata": {},
     "output_type": "execute_result"
    }
   ],
   "source": [
    "df_15_28 = df_15_28[col]\n",
    "df_15_28"
   ]
  },
  {
   "cell_type": "code",
   "execution_count": 31,
   "metadata": {},
   "outputs": [],
   "source": [
    "df_group = pd.read_csv('/data/meditation/majid/surveys/0.csv',\n",
    "                       skiprows=[1, 2])[['Study ID', 'Group']]\n",
    "df_group.columns = ['survey_id', 'group']\n",
    "df_id = pd.read_csv('/home/memari/jhu_centering/tables/id.csv')\n",
    "df_group = df_id.merge(df_group, on='survey_id', how='left')\n",
    "df_group.rename(columns={'device_id1': 'device_id'}, inplace=True)\n",
    "\n",
    "df_1_14 = df_1_14.merge(df_group[['device_id', 'group_x']],\n",
    "                   on='device_id', how='left')\n",
    "df_15_28 = df_15_28.merge(df_group[['device_id', 'group_x']],\n",
    "                   on='device_id', how='left')\n"
   ]
  },
  {
   "cell_type": "code",
   "execution_count": 32,
   "metadata": {},
   "outputs": [],
   "source": [
    "\n",
    "grouped_1_14 = df_1_14 .groupby(['group_x'])\n",
    "df_dict = {group: data for group, data in grouped_1_14}\n",
    "active_control_1_14 = df_dict['Active Control']\n",
    "experimental_condition_1_14 = df_dict['Experimental Condition']\n",
    "passive_control_1_14 = df_dict['Passive Control']"
   ]
  },
  {
   "cell_type": "code",
   "execution_count": 34,
   "metadata": {},
   "outputs": [],
   "source": [
    "grouped_15_28 = df_15_28 .groupby(['group_x'])\n",
    "df_dict = {group: data for group, data in grouped_15_28}\n",
    "active_control_15_28 = df_dict['Active Control']\n",
    "experimental_condition_15_28 = df_dict['Experimental Condition']\n",
    "passive_control_15_28 = df_dict['Passive Control']"
   ]
  },
  {
   "cell_type": "code",
   "execution_count": 38,
   "metadata": {},
   "outputs": [],
   "source": [
    "to_remove = ['day', 'device_id', 'date']\n",
    "my_list = [item for item in col if item not in to_remove]\n"
   ]
  },
  {
   "cell_type": "code",
   "execution_count": 39,
   "metadata": {},
   "outputs": [
    {
     "name": "stdout",
     "output_type": "stream",
     "text": [
      "active_control: t-statistic=-0.17 and p-value=0.86\n",
      "experimental_condition: t-statistic=-0.17 and p-value=0.15\n",
      "passive_control: t-statistic=-0.17 and p-value=0.68\n"
     ]
    },
    {
     "data": {
      "image/png": "[encoded data removed]",
      "text/plain": [
       "<Figure size 1000x600 with 6 Axes>"
      ]
     },
     "metadata": {},
     "output_type": "display_data"
    },
    {
     "name": "stdout",
     "output_type": "stream",
     "text": [
      "active_control: t-statistic=-3.14 and p-value=0.00\n",
      "experimental_condition: t-statistic=-3.14 and p-value=0.06\n",
      "passive_control: t-statistic=-3.14 and p-value=0.14\n"
     ]
    },
    {
     "data": {
      "image/png": "[encoded data removed]",
      "text/plain": [
       "<Figure size 1000x600 with 6 Axes>"
      ]
     },
     "metadata": {},
     "output_type": "display_data"
    }
   ],
   "source": [
    "from scipy.stats import ttest_ind\n",
    "for clm in mylist:\n",
    "    fig, (ax1, ax2, ax3,ax4,ax5,ax6) = plt.subplots(1, 6, figsize=(10, 6), sharey=True)\n",
    "    sns.boxplot(y=active_control_1_14[clm], orient=\"v\", showfliers=False, ax=ax1)\n",
    "    sns.boxplot(y=active_control_15_28[clm], orient=\"v\", showfliers=False, ax=ax2)\n",
    "    sns.boxplot(y=experimental_condition_1_14[clm],orient=\"v\", showfliers=False, ax=ax3)\n",
    "    sns.boxplot(y=experimental_condition_15_28[clm],orient=\"v\", showfliers=False, ax=ax4)\n",
    "    sns.boxplot(y=passive_control_1_14[clm], orient=\"v\", showfliers=False, ax=ax5)\n",
    "    sns.boxplot(y=passive_control_15_28[clm], orient=\"v\", showfliers=False, ax=ax6)\n",
    "\n",
    "    ax1.set_title(\"Active 1-14\", fontsize=8)\n",
    "    m1 = int(active_control_1_14[clm].median())\n",
    "    ax1.text(0, m1, m1, ha='center', va='center',fontsize=14, fontdict={'fontweight': 'bold'})\n",
    "    ax2.set_title(\"Active 15-28\", fontsize=8)\n",
    "    m2 = int(active_control_15_28[clm].median())\n",
    "    ax2.text(0, m2, m2, ha='center', va='center',fontsize=14, fontdict={'fontweight': 'bold'})\n",
    "    ax3.set_title(\"Experimental 1-14\", fontsize=8)\n",
    "    m3 = int(experimental_condition_1_14[clm].median())\n",
    "    ax3.text(0, m3, m3, ha='center', va='center',fontsize=14, fontdict={'fontweight': 'bold'})\n",
    "    ax4.set_title(\"Experimental 15-28\", fontsize=8)\n",
    "    m4 = int(experimental_condition_15_28[clm].median())\n",
    "    ax4.text(0, m4, m4, ha='center', va='center',fontsize=14, fontdict={'fontweight': 'bold'})\n",
    "    ax5.set_title(\"Passive 1-14\", fontsize=8)\n",
    "    m5 = int(passive_control_1_14[clm].median())\n",
    "    ax5.text(0, m5, m5, ha='center', va='center',fontsize=14, fontdict={'fontweight': 'bold'})\n",
    "    ax6.set_title(\"Passive 15-28\", fontsize=8)\n",
    "    m6 = int(passive_control_15_28[clm].median())\n",
    "    ax6.text(0, m6, m6, ha='center', va='center',fontsize=14, fontdict={'fontweight': 'bold'})\n",
    "\n",
    "    t, p = ttest_ind(active_control_1_14[clm], active_control_15_28[clm])\n",
    "    print('active_control: t-statistic={:.2f} and p-value={:.2f}'.format(t, p))\n",
    "    stat, p = ttest_ind(experimental_condition_1_14[clm], experimental_condition_15_28[clm])\n",
    "    print('experimental_condition: t-statistic={:.2f} and p-value={:.2f}'.format(t, p))\n",
    "    stat, p = ttest_ind(passive_control_1_14[clm], passive_control_15_28[clm])\n",
    "    print('passive_control: t-statistic={:.2f} and p-value={:.2f}'.format(t, p))\n",
    "    plt.show()"
   ]
  }
 ],
 "metadata": {
  "kernelspec": {
   "display_name": "dlatk_py38_majid",
   "language": "python",
   "name": "python3"
  },
  "language_info": {
   "codemirror_mode": {
    "name": "ipython",
    "version": 3
   },
   "file_extension": ".py",
   "mimetype": "text/x-python",
   "name": "python",
   "nbconvert_exporter": "python",
   "pygments_lexer": "ipython3",
   "version": "3.8.5"
  },
  "orig_nbformat": 4,
  "vscode": {
   "interpreter": {
    "hash": "a0e36f4956b5fdbcaf174c085fbd1a914c8c8de38ec77bc7e31222f0c24acba3"
   }
  }
 },
 "nbformat": 4,
 "nbformat_minor": 2
}
