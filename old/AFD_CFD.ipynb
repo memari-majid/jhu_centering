{
 "cells": [
  {
   "cell_type": "code",
   "execution_count": 41,
   "metadata": {},
   "outputs": [],
   "source": [
    "import pandas as pd\n",
    "from matplotlib import pyplot as plt\n",
    "import datetime\n",
    "import numpy as np"
   ]
  },
  {
   "cell_type": "code",
   "execution_count": 62,
   "metadata": {},
   "outputs": [],
   "source": [
    "# the survey 0 Consent and Baseline\n",
    "df0 = pd.read_csv(f'/data/meditation/majid/surveys/0.csv', skiprows=[1,2])\n",
    "# finished the survey\n",
    "df0 = df0[df0['Finished']==1]\n",
    "# sort by end date\n",
    "df0 = df0.sort_values(by = 'EndDate', ascending = True)\n",
    "# filter the columns\n",
    "df0 = df0.rename(columns={'Study ID': 'StudyID'})\n",
    "df0 = df0.rename(columns={'EndDate': 'date'})\n",
    "df0 = df0[['StudyID','date']]\n",
    "df0['date'] = pd.to_datetime(df0['date']).dt.date\n",
    "min_dates = df0.groupby('StudyID')['date'].min()\n",
    "# find the first day of each participant\n",
    "def find_first_day(df):\n",
    "    first_day = {}\n",
    "    for StudyID in set(df['StudyID'].tolist()):\n",
    "        df_target = df[df['StudyID']==StudyID]\n",
    "        first_day[StudyID] = min(df_target['date'])\n",
    "    return first_day\n",
    "first_day = find_first_day(df0)\n",
    "df_id = pd.read_csv('/home/memari/centering_majid/tables/id.csv')\n",
    "df_id = df_id.rename(columns={'survey_id': 'StudyID'})\n",
    "df_group = df_id.merge(df0, on='StudyID', how='left')\n",
    "grouped = df_group.groupby('date')['StudyID'].nunique()\n",
    "m = grouped.mean()\n",
    "df_cd = df_group\n",
    "df_ad = pd.read_csv('ad.csv')\n",
    "# Rename the 'device_id1' column to 'device_id' in df_cd\n",
    "df_cd = df_cd.rename(columns={'device_id1': 'device_id'})\n",
    "df_cd = df_cd.rename(columns={'date': 'date_cd'})\n",
    "df_ad = df_ad.rename(columns={'date': 'date_ad'})"
   ]
  },
  {
   "cell_type": "code",
   "execution_count": 63,
   "metadata": {},
   "outputs": [
    {
     "data": {
      "text/plain": [
       "Index(['device_id', 'StudyID', 'device_id2', 'date_cd'], dtype='object')"
      ]
     },
     "execution_count": 63,
     "metadata": {},
     "output_type": "execute_result"
    }
   ],
   "source": [
    "df_cd.columns"
   ]
  },
  {
   "cell_type": "code",
   "execution_count": 64,
   "metadata": {},
   "outputs": [
    {
     "data": {
      "text/plain": [
       "Index(['device_id', 'date_ad'], dtype='object')"
      ]
     },
     "execution_count": 64,
     "metadata": {},
     "output_type": "execute_result"
    }
   ],
   "source": [
    "df_ad.columns"
   ]
  },
  {
   "cell_type": "code",
   "execution_count": 81,
   "metadata": {},
   "outputs": [
    {
     "name": "stdout",
     "output_type": "stream",
     "text": [
      "     StudyID    date_cd    date_ad date_diff\n",
      "45  42343422 2022-12-08 2022-12-07   -1 days\n",
      "5   40162819 2022-11-15 2022-11-14   -1 days\n",
      "2   87785016 2022-11-11 2022-11-11    0 days\n",
      "10  79591753 2022-11-18 2022-11-18    0 days\n",
      "6   35527674 2022-11-15 2022-11-15    0 days\n"
     ]
    }
   ],
   "source": [
    "# Convert the date columns to datetime objects\n",
    "df_cd['date_cd'] = pd.to_datetime(df_cd['date_cd'])\n",
    "df_ad['date_ad'] = pd.to_datetime(df_ad['date_ad'])\n",
    "# Merge the DataFrames on 'device_id' and 'date'\n",
    "merged_df = pd.merge(df_cd, df_ad, on=['device_id'], how='inner')\n",
    "# Remove the 'device_id2' column from the merged DataFrame\n",
    "merged_df = merged_df.drop(columns=['device_id2'])\n",
    "merged_df = merged_df.drop(columns=['device_id'])\n",
    "merged_df['date_diff'] = merged_df['date_ad'] - merged_df['date_cd']\n",
    "# Sort the merged DataFrame by the 'date_diff' column in ascending order\n",
    "merged_df = merged_df.sort_values(by='date_diff')\n",
    "print(merged_df.head(5))\n",
    "#merged_df.to_csv('merged_df.csv')"
   ]
  },
  {
   "cell_type": "code",
   "execution_count": 80,
   "metadata": {},
   "outputs": [
    {
     "data": {
      "image/png": "[encoded data removed]",
      "text/plain": [
       "<Figure size 640x480 with 1 Axes>"
      ]
     },
     "metadata": {},
     "output_type": "display_data"
    }
   ],
   "source": [
    "merged_df['date_diff'].astype('timedelta64[D]').plot.hist(bins=75)\n",
    "\n",
    "# Add labels and a title\n",
    "plt.xlabel('Days')\n",
    "plt.ylabel('Frequency')\n",
    "plt.title('Aware First Day - Consent First Day')\n",
    "\n",
    "# Show the plot\n",
    "plt.show()\n"
   ]
  }
 ],
 "metadata": {
  "kernelspec": {
   "display_name": "dlatk_py38_majid",
   "language": "python",
   "name": "python3"
  },
  "language_info": {
   "codemirror_mode": {
    "name": "ipython",
    "version": 3
   },
   "file_extension": ".py",
   "mimetype": "text/x-python",
   "name": "python",
   "nbconvert_exporter": "python",
   "pygments_lexer": "ipython3",
   "version": "3.8.5"
  },
  "orig_nbformat": 4,
  "vscode": {
   "interpreter": {
    "hash": "a0e36f4956b5fdbcaf174c085fbd1a914c8c8de38ec77bc7e31222f0c24acba3"
   }
  }
 },
 "nbformat": 4,
 "nbformat_minor": 2
}
