{
 "cells": [
  {
   "cell_type": "code",
   "execution_count": 1,
   "metadata": {},
   "outputs": [],
   "source": [
    "import pandas as pd"
   ]
  },
  {
   "cell_type": "code",
   "execution_count": 2,
   "metadata": {},
   "outputs": [
    {
     "data": {
      "text/html": [
       "<div>\n",
       "<style scoped>\n",
       "    .dataframe tbody tr th:only-of-type {\n",
       "        vertical-align: middle;\n",
       "    }\n",
       "\n",
       "    .dataframe tbody tr th {\n",
       "        vertical-align: top;\n",
       "    }\n",
       "\n",
       "    .dataframe thead th {\n",
       "        text-align: right;\n",
       "    }\n",
       "</style>\n",
       "<table border=\"1\" class=\"dataframe\">\n",
       "  <thead>\n",
       "    <tr style=\"text-align: right;\">\n",
       "      <th></th>\n",
       "      <th>device_id</th>\n",
       "      <th>id</th>\n",
       "      <th>study_id</th>\n",
       "    </tr>\n",
       "  </thead>\n",
       "  <tbody>\n",
       "    <tr>\n",
       "      <th>0</th>\n",
       "      <td>4a23c5dc-9a50-4d46-a12d-dd94ee98270f</td>\n",
       "      <td>8415477</td>\n",
       "      <td>8415477</td>\n",
       "    </tr>\n",
       "    <tr>\n",
       "      <th>1</th>\n",
       "      <td>f3845ba4-8702-42cf-a14f-051c46f66b61</td>\n",
       "      <td>15027959</td>\n",
       "      <td>15027959</td>\n",
       "    </tr>\n",
       "    <tr>\n",
       "      <th>2</th>\n",
       "      <td>ae02314b-a607-41b9-9507-28ffa1babed7</td>\n",
       "      <td>73386307</td>\n",
       "      <td>73386307</td>\n",
       "    </tr>\n",
       "    <tr>\n",
       "      <th>3</th>\n",
       "      <td>b460f89e-fd76-46ff-a960-989d74fcb66a</td>\n",
       "      <td>87785016</td>\n",
       "      <td>87785016</td>\n",
       "    </tr>\n",
       "    <tr>\n",
       "      <th>4</th>\n",
       "      <td>e5048fab-dc20-4d99-8cea-220a5a2750e0</td>\n",
       "      <td>14851895</td>\n",
       "      <td>14851895</td>\n",
       "    </tr>\n",
       "    <tr>\n",
       "      <th>...</th>\n",
       "      <td>...</td>\n",
       "      <td>...</td>\n",
       "      <td>...</td>\n",
       "    </tr>\n",
       "    <tr>\n",
       "      <th>70</th>\n",
       "      <td>780c9b18-72d3-4714-858d-3c91b3719155</td>\n",
       "      <td>21788465</td>\n",
       "      <td>21788465</td>\n",
       "    </tr>\n",
       "    <tr>\n",
       "      <th>71</th>\n",
       "      <td>a1118578-bbb4-47ef-b784-7d5bd09ad8b5</td>\n",
       "      <td>7389236</td>\n",
       "      <td>7389236</td>\n",
       "    </tr>\n",
       "    <tr>\n",
       "      <th>72</th>\n",
       "      <td>00e17b8a-4b0f-4230-bd26-3df2853e8916</td>\n",
       "      <td>69546645</td>\n",
       "      <td>69546645</td>\n",
       "    </tr>\n",
       "    <tr>\n",
       "      <th>73</th>\n",
       "      <td>029e57cb-fa0d-479d-abd2-9cb5745f219d</td>\n",
       "      <td>72690342</td>\n",
       "      <td>72690342</td>\n",
       "    </tr>\n",
       "    <tr>\n",
       "      <th>74</th>\n",
       "      <td>826fee95-bb60-4915-9e63-d027bf225eb5</td>\n",
       "      <td>49211890</td>\n",
       "      <td>49211890</td>\n",
       "    </tr>\n",
       "  </tbody>\n",
       "</table>\n",
       "<p>75 rows × 3 columns</p>\n",
       "</div>"
      ],
      "text/plain": [
       "                               device_id        id  study_id\n",
       "0   4a23c5dc-9a50-4d46-a12d-dd94ee98270f   8415477   8415477\n",
       "1   f3845ba4-8702-42cf-a14f-051c46f66b61  15027959  15027959\n",
       "2   ae02314b-a607-41b9-9507-28ffa1babed7  73386307  73386307\n",
       "3   b460f89e-fd76-46ff-a960-989d74fcb66a  87785016  87785016\n",
       "4   e5048fab-dc20-4d99-8cea-220a5a2750e0  14851895  14851895\n",
       "..                                   ...       ...       ...\n",
       "70  780c9b18-72d3-4714-858d-3c91b3719155  21788465  21788465\n",
       "71  a1118578-bbb4-47ef-b784-7d5bd09ad8b5   7389236   7389236\n",
       "72  00e17b8a-4b0f-4230-bd26-3df2853e8916  69546645  69546645\n",
       "73  029e57cb-fa0d-479d-abd2-9cb5745f219d  72690342  72690342\n",
       "74  826fee95-bb60-4915-9e63-d027bf225eb5  49211890  49211890\n",
       "\n",
       "[75 rows x 3 columns]"
      ]
     },
     "execution_count": 2,
     "metadata": {},
     "output_type": "execute_result"
    }
   ],
   "source": [
    "df_id = pd.read_csv(\"/data/meditation/majid/tables/id.csv\")\n",
    "df_id"
   ]
  },
  {
   "cell_type": "code",
   "execution_count": 3,
   "metadata": {},
   "outputs": [
    {
     "data": {
      "text/html": [
       "<div>\n",
       "<style scoped>\n",
       "    .dataframe tbody tr th:only-of-type {\n",
       "        vertical-align: middle;\n",
       "    }\n",
       "\n",
       "    .dataframe tbody tr th {\n",
       "        vertical-align: top;\n",
       "    }\n",
       "\n",
       "    .dataframe thead th {\n",
       "        text-align: right;\n",
       "    }\n",
       "</style>\n",
       "<table border=\"1\" class=\"dataframe\">\n",
       "  <thead>\n",
       "    <tr style=\"text-align: right;\">\n",
       "      <th></th>\n",
       "      <th>device_id</th>\n",
       "      <th>study_id</th>\n",
       "    </tr>\n",
       "  </thead>\n",
       "  <tbody>\n",
       "    <tr>\n",
       "      <th>0</th>\n",
       "      <td>4a23c5dc-9a50-4d46-a12d-dd94ee98270f</td>\n",
       "      <td>8415477</td>\n",
       "    </tr>\n",
       "    <tr>\n",
       "      <th>1</th>\n",
       "      <td>f3845ba4-8702-42cf-a14f-051c46f66b61</td>\n",
       "      <td>15027959</td>\n",
       "    </tr>\n",
       "    <tr>\n",
       "      <th>2</th>\n",
       "      <td>ae02314b-a607-41b9-9507-28ffa1babed7</td>\n",
       "      <td>73386307</td>\n",
       "    </tr>\n",
       "    <tr>\n",
       "      <th>3</th>\n",
       "      <td>b460f89e-fd76-46ff-a960-989d74fcb66a</td>\n",
       "      <td>87785016</td>\n",
       "    </tr>\n",
       "    <tr>\n",
       "      <th>4</th>\n",
       "      <td>e5048fab-dc20-4d99-8cea-220a5a2750e0</td>\n",
       "      <td>14851895</td>\n",
       "    </tr>\n",
       "    <tr>\n",
       "      <th>...</th>\n",
       "      <td>...</td>\n",
       "      <td>...</td>\n",
       "    </tr>\n",
       "    <tr>\n",
       "      <th>70</th>\n",
       "      <td>780c9b18-72d3-4714-858d-3c91b3719155</td>\n",
       "      <td>21788465</td>\n",
       "    </tr>\n",
       "    <tr>\n",
       "      <th>71</th>\n",
       "      <td>a1118578-bbb4-47ef-b784-7d5bd09ad8b5</td>\n",
       "      <td>7389236</td>\n",
       "    </tr>\n",
       "    <tr>\n",
       "      <th>72</th>\n",
       "      <td>00e17b8a-4b0f-4230-bd26-3df2853e8916</td>\n",
       "      <td>69546645</td>\n",
       "    </tr>\n",
       "    <tr>\n",
       "      <th>73</th>\n",
       "      <td>029e57cb-fa0d-479d-abd2-9cb5745f219d</td>\n",
       "      <td>72690342</td>\n",
       "    </tr>\n",
       "    <tr>\n",
       "      <th>74</th>\n",
       "      <td>826fee95-bb60-4915-9e63-d027bf225eb5</td>\n",
       "      <td>49211890</td>\n",
       "    </tr>\n",
       "  </tbody>\n",
       "</table>\n",
       "<p>75 rows × 2 columns</p>\n",
       "</div>"
      ],
      "text/plain": [
       "                               device_id  study_id\n",
       "0   4a23c5dc-9a50-4d46-a12d-dd94ee98270f   8415477\n",
       "1   f3845ba4-8702-42cf-a14f-051c46f66b61  15027959\n",
       "2   ae02314b-a607-41b9-9507-28ffa1babed7  73386307\n",
       "3   b460f89e-fd76-46ff-a960-989d74fcb66a  87785016\n",
       "4   e5048fab-dc20-4d99-8cea-220a5a2750e0  14851895\n",
       "..                                   ...       ...\n",
       "70  780c9b18-72d3-4714-858d-3c91b3719155  21788465\n",
       "71  a1118578-bbb4-47ef-b784-7d5bd09ad8b5   7389236\n",
       "72  00e17b8a-4b0f-4230-bd26-3df2853e8916  69546645\n",
       "73  029e57cb-fa0d-479d-abd2-9cb5745f219d  72690342\n",
       "74  826fee95-bb60-4915-9e63-d027bf225eb5  49211890\n",
       "\n",
       "[75 rows x 2 columns]"
      ]
     },
     "execution_count": 3,
     "metadata": {},
     "output_type": "execute_result"
    }
   ],
   "source": [
    "df_id = df_id.drop('id', axis = 1)\n",
    "df_id"
   ]
  },
  {
   "cell_type": "code",
   "execution_count": 4,
   "metadata": {},
   "outputs": [],
   "source": [
    "df_id.columns = ['device_id1','survey_id']"
   ]
  },
  {
   "cell_type": "code",
   "execution_count": 5,
   "metadata": {},
   "outputs": [],
   "source": [
    "df_id['device_id2'] = None"
   ]
  },
  {
   "cell_type": "code",
   "execution_count": 6,
   "metadata": {},
   "outputs": [],
   "source": [
    "my_dict = {}"
   ]
  },
  {
   "cell_type": "code",
   "execution_count": 7,
   "metadata": {},
   "outputs": [],
   "source": [
    "for index, row in df_id.iterrows():\n",
    "    if row['survey_id'] in my_dict:\n",
    "        if my_dict[row['survey_id']] != row['device_id1']:\n",
    "            df_id.loc[index,'device_id2'] = my_dict[row['survey_id']]\n",
    "    else:\n",
    "        my_dict[row['survey_id']] = row['device_id1']        \n",
    "        "
   ]
  },
  {
   "cell_type": "code",
   "execution_count": 8,
   "metadata": {},
   "outputs": [],
   "source": [
    "df_id.to_csv('/home/memari/jhu_centering/tables/id.csv',index=None)"
   ]
  },
  {
   "cell_type": "code",
   "execution_count": 9,
   "metadata": {},
   "outputs": [
    {
     "data": {
      "text/plain": [
       "69"
      ]
     },
     "execution_count": 9,
     "metadata": {},
     "output_type": "execute_result"
    }
   ],
   "source": [
    "df_id['survey_id'].nunique()"
   ]
  },
  {
   "cell_type": "code",
   "execution_count": 10,
   "metadata": {},
   "outputs": [
    {
     "data": {
      "text/html": [
       "<div>\n",
       "<style scoped>\n",
       "    .dataframe tbody tr th:only-of-type {\n",
       "        vertical-align: middle;\n",
       "    }\n",
       "\n",
       "    .dataframe tbody tr th {\n",
       "        vertical-align: top;\n",
       "    }\n",
       "\n",
       "    .dataframe thead th {\n",
       "        text-align: right;\n",
       "    }\n",
       "</style>\n",
       "<table border=\"1\" class=\"dataframe\">\n",
       "  <thead>\n",
       "    <tr style=\"text-align: right;\">\n",
       "      <th></th>\n",
       "      <th>survey_id</th>\n",
       "      <th>group</th>\n",
       "    </tr>\n",
       "  </thead>\n",
       "  <tbody>\n",
       "    <tr>\n",
       "      <th>0</th>\n",
       "      <td>29872387</td>\n",
       "      <td>Passive Control</td>\n",
       "    </tr>\n",
       "    <tr>\n",
       "      <th>1</th>\n",
       "      <td>7053820</td>\n",
       "      <td>Active Control</td>\n",
       "    </tr>\n",
       "    <tr>\n",
       "      <th>2</th>\n",
       "      <td>64399346</td>\n",
       "      <td>Experimental Condition</td>\n",
       "    </tr>\n",
       "    <tr>\n",
       "      <th>3</th>\n",
       "      <td>41845827</td>\n",
       "      <td>Passive Control</td>\n",
       "    </tr>\n",
       "    <tr>\n",
       "      <th>4</th>\n",
       "      <td>38737963</td>\n",
       "      <td>Experimental Condition</td>\n",
       "    </tr>\n",
       "    <tr>\n",
       "      <th>...</th>\n",
       "      <td>...</td>\n",
       "      <td>...</td>\n",
       "    </tr>\n",
       "    <tr>\n",
       "      <th>1766</th>\n",
       "      <td>28859007</td>\n",
       "      <td>Experimental Condition</td>\n",
       "    </tr>\n",
       "    <tr>\n",
       "      <th>1767</th>\n",
       "      <td>25569345</td>\n",
       "      <td>Active Control</td>\n",
       "    </tr>\n",
       "    <tr>\n",
       "      <th>1768</th>\n",
       "      <td>96827593</td>\n",
       "      <td>Passive Control</td>\n",
       "    </tr>\n",
       "    <tr>\n",
       "      <th>1769</th>\n",
       "      <td>19859888</td>\n",
       "      <td>Active Control</td>\n",
       "    </tr>\n",
       "    <tr>\n",
       "      <th>1770</th>\n",
       "      <td>38761671</td>\n",
       "      <td>Passive Control</td>\n",
       "    </tr>\n",
       "  </tbody>\n",
       "</table>\n",
       "<p>1771 rows × 2 columns</p>\n",
       "</div>"
      ],
      "text/plain": [
       "      survey_id                   group\n",
       "0      29872387         Passive Control\n",
       "1       7053820          Active Control\n",
       "2      64399346  Experimental Condition\n",
       "3      41845827         Passive Control\n",
       "4      38737963  Experimental Condition\n",
       "...         ...                     ...\n",
       "1766   28859007  Experimental Condition\n",
       "1767   25569345          Active Control\n",
       "1768   96827593         Passive Control\n",
       "1769   19859888          Active Control\n",
       "1770   38761671         Passive Control\n",
       "\n",
       "[1771 rows x 2 columns]"
      ]
     },
     "execution_count": 10,
     "metadata": {},
     "output_type": "execute_result"
    }
   ],
   "source": [
    "df_group = pd.read_csv('/data/meditation/majid/surveys/0.csv', skiprows=[1,2])[['Study ID','Group']]\n",
    "df_group.columns = ['survey_id','group']\n",
    "df_group"
   ]
  },
  {
   "cell_type": "code",
   "execution_count": 11,
   "metadata": {},
   "outputs": [
    {
     "data": {
      "text/plain": [
       "0"
      ]
     },
     "execution_count": 11,
     "metadata": {},
     "output_type": "execute_result"
    }
   ],
   "source": [
    "df_group['group'].isna().sum()"
   ]
  },
  {
   "cell_type": "code",
   "execution_count": 18,
   "metadata": {},
   "outputs": [
    {
     "data": {
      "text/plain": [
       "1771"
      ]
     },
     "execution_count": 18,
     "metadata": {},
     "output_type": "execute_result"
    }
   ],
   "source": [
    "df_group['survey_id'].nunique()"
   ]
  },
  {
   "cell_type": "code",
   "execution_count": 19,
   "metadata": {},
   "outputs": [
    {
     "name": "stdout",
     "output_type": "stream",
     "text": [
      "Active Control 595\n",
      "Experimental Condition 587\n",
      "Passive Control 589\n"
     ]
    }
   ],
   "source": [
    "for group in ['Active Control', 'Experimental Condition', 'Passive Control']:\n",
    "    print(group, len(df_group[df_group['group']==group]))"
   ]
  },
  {
   "cell_type": "code",
   "execution_count": 20,
   "metadata": {},
   "outputs": [
    {
     "data": {
      "text/plain": [
       "1771"
      ]
     },
     "execution_count": 20,
     "metadata": {},
     "output_type": "execute_result"
    }
   ],
   "source": [
    "595 + 587 + 589"
   ]
  },
  {
   "cell_type": "code",
   "execution_count": 21,
   "metadata": {},
   "outputs": [
    {
     "data": {
      "text/html": [
       "<div>\n",
       "<style scoped>\n",
       "    .dataframe tbody tr th:only-of-type {\n",
       "        vertical-align: middle;\n",
       "    }\n",
       "\n",
       "    .dataframe tbody tr th {\n",
       "        vertical-align: top;\n",
       "    }\n",
       "\n",
       "    .dataframe thead th {\n",
       "        text-align: right;\n",
       "    }\n",
       "</style>\n",
       "<table border=\"1\" class=\"dataframe\">\n",
       "  <thead>\n",
       "    <tr style=\"text-align: right;\">\n",
       "      <th></th>\n",
       "      <th>device_id1</th>\n",
       "      <th>survey_id</th>\n",
       "      <th>device_id2</th>\n",
       "      <th>group</th>\n",
       "    </tr>\n",
       "  </thead>\n",
       "  <tbody>\n",
       "    <tr>\n",
       "      <th>0</th>\n",
       "      <td>4a23c5dc-9a50-4d46-a12d-dd94ee98270f</td>\n",
       "      <td>8415477</td>\n",
       "      <td>None</td>\n",
       "      <td>Experimental Condition</td>\n",
       "    </tr>\n",
       "    <tr>\n",
       "      <th>1</th>\n",
       "      <td>f3845ba4-8702-42cf-a14f-051c46f66b61</td>\n",
       "      <td>15027959</td>\n",
       "      <td>None</td>\n",
       "      <td>Active Control</td>\n",
       "    </tr>\n",
       "    <tr>\n",
       "      <th>2</th>\n",
       "      <td>ae02314b-a607-41b9-9507-28ffa1babed7</td>\n",
       "      <td>73386307</td>\n",
       "      <td>None</td>\n",
       "      <td>Active Control</td>\n",
       "    </tr>\n",
       "    <tr>\n",
       "      <th>3</th>\n",
       "      <td>b460f89e-fd76-46ff-a960-989d74fcb66a</td>\n",
       "      <td>87785016</td>\n",
       "      <td>None</td>\n",
       "      <td>Active Control</td>\n",
       "    </tr>\n",
       "    <tr>\n",
       "      <th>4</th>\n",
       "      <td>e5048fab-dc20-4d99-8cea-220a5a2750e0</td>\n",
       "      <td>14851895</td>\n",
       "      <td>None</td>\n",
       "      <td>Passive Control</td>\n",
       "    </tr>\n",
       "    <tr>\n",
       "      <th>...</th>\n",
       "      <td>...</td>\n",
       "      <td>...</td>\n",
       "      <td>...</td>\n",
       "      <td>...</td>\n",
       "    </tr>\n",
       "    <tr>\n",
       "      <th>70</th>\n",
       "      <td>780c9b18-72d3-4714-858d-3c91b3719155</td>\n",
       "      <td>21788465</td>\n",
       "      <td>None</td>\n",
       "      <td>Active Control</td>\n",
       "    </tr>\n",
       "    <tr>\n",
       "      <th>71</th>\n",
       "      <td>a1118578-bbb4-47ef-b784-7d5bd09ad8b5</td>\n",
       "      <td>7389236</td>\n",
       "      <td>None</td>\n",
       "      <td>Passive Control</td>\n",
       "    </tr>\n",
       "    <tr>\n",
       "      <th>72</th>\n",
       "      <td>00e17b8a-4b0f-4230-bd26-3df2853e8916</td>\n",
       "      <td>69546645</td>\n",
       "      <td>None</td>\n",
       "      <td>Experimental Condition</td>\n",
       "    </tr>\n",
       "    <tr>\n",
       "      <th>73</th>\n",
       "      <td>029e57cb-fa0d-479d-abd2-9cb5745f219d</td>\n",
       "      <td>72690342</td>\n",
       "      <td>None</td>\n",
       "      <td>Passive Control</td>\n",
       "    </tr>\n",
       "    <tr>\n",
       "      <th>74</th>\n",
       "      <td>826fee95-bb60-4915-9e63-d027bf225eb5</td>\n",
       "      <td>49211890</td>\n",
       "      <td>None</td>\n",
       "      <td>Active Control</td>\n",
       "    </tr>\n",
       "  </tbody>\n",
       "</table>\n",
       "<p>75 rows × 4 columns</p>\n",
       "</div>"
      ],
      "text/plain": [
       "                              device_id1  survey_id device_id2  \\\n",
       "0   4a23c5dc-9a50-4d46-a12d-dd94ee98270f    8415477       None   \n",
       "1   f3845ba4-8702-42cf-a14f-051c46f66b61   15027959       None   \n",
       "2   ae02314b-a607-41b9-9507-28ffa1babed7   73386307       None   \n",
       "3   b460f89e-fd76-46ff-a960-989d74fcb66a   87785016       None   \n",
       "4   e5048fab-dc20-4d99-8cea-220a5a2750e0   14851895       None   \n",
       "..                                   ...        ...        ...   \n",
       "70  780c9b18-72d3-4714-858d-3c91b3719155   21788465       None   \n",
       "71  a1118578-bbb4-47ef-b784-7d5bd09ad8b5    7389236       None   \n",
       "72  00e17b8a-4b0f-4230-bd26-3df2853e8916   69546645       None   \n",
       "73  029e57cb-fa0d-479d-abd2-9cb5745f219d   72690342       None   \n",
       "74  826fee95-bb60-4915-9e63-d027bf225eb5   49211890       None   \n",
       "\n",
       "                     group  \n",
       "0   Experimental Condition  \n",
       "1           Active Control  \n",
       "2           Active Control  \n",
       "3           Active Control  \n",
       "4          Passive Control  \n",
       "..                     ...  \n",
       "70          Active Control  \n",
       "71         Passive Control  \n",
       "72  Experimental Condition  \n",
       "73         Passive Control  \n",
       "74          Active Control  \n",
       "\n",
       "[75 rows x 4 columns]"
      ]
     },
     "execution_count": 21,
     "metadata": {},
     "output_type": "execute_result"
    }
   ],
   "source": [
    "df_group2 = df_id.merge(df_group, on = 'survey_id', how = 'left')\n",
    "df_group2"
   ]
  },
  {
   "cell_type": "code",
   "execution_count": 22,
   "metadata": {},
   "outputs": [],
   "source": [
    "df_group2.to_csv('/home/memari/centering_majid/tables/id.csv',index=None)"
   ]
  },
  {
   "cell_type": "code",
   "execution_count": 23,
   "metadata": {},
   "outputs": [
    {
     "data": {
      "text/plain": [
       "1771"
      ]
     },
     "execution_count": 23,
     "metadata": {},
     "output_type": "execute_result"
    }
   ],
   "source": [
    "df_group['survey_id'].nunique()"
   ]
  },
  {
   "cell_type": "code",
   "execution_count": 24,
   "metadata": {},
   "outputs": [
    {
     "name": "stdout",
     "output_type": "stream",
     "text": [
      "Active Control 595\n",
      "Experimental Condition 587\n",
      "Passive Control 589\n"
     ]
    }
   ],
   "source": [
    "for group in ['Active Control', 'Experimental Condition', 'Passive Control']:\n",
    "    print(group, len(df_group[df_group['group']==group]))"
   ]
  }
 ],
 "metadata": {
  "kernelspec": {
   "display_name": "dlatk_py38_majid",
   "language": "python",
   "name": "python3"
  },
  "language_info": {
   "codemirror_mode": {
    "name": "ipython",
    "version": 3
   },
   "file_extension": ".py",
   "mimetype": "text/x-python",
   "name": "python",
   "nbconvert_exporter": "python",
   "pygments_lexer": "ipython3",
   "version": "3.8.5"
  },
  "vscode": {
   "interpreter": {
    "hash": "a0e36f4956b5fdbcaf174c085fbd1a914c8c8de38ec77bc7e31222f0c24acba3"
   }
  }
 },
 "nbformat": 4,
 "nbformat_minor": 2
}
